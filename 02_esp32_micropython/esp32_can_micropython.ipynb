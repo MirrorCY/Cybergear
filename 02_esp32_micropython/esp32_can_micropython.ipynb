{
 "cells": [
  {
   "cell_type": "code",
   "execution_count": 21,
   "id": "fcf4cc05",
   "metadata": {},
   "outputs": [
    {
     "name": "stdout",
     "output_type": "stream",
     "text": [
      "\u001b[34mConnecting to --port=COM15 --baud=115200 \u001b[0m\n",
      "\u001b[34mReady.\n",
      "\u001b[0m"
     ]
    }
   ],
   "source": [
    "%serialconnect --port=COM15"
   ]
  },
  {
   "cell_type": "code",
   "execution_count": 22,
   "id": "1af91dbd",
   "metadata": {},
   "outputs": [
    {
     "name": "stdout",
     "output_type": "stream",
     "text": [
      "repl is in normal command mode\n",
      "[\\r\\x03\\x03] b'\\r\\nMicroPython v1.19.1-529-gdaf16826e-dirty on 2022-10-06; ESP32 module with ESP32\\r\\nType \"help()\" for more information.\\r\\n>>> \\r\\n>>> \\r\\nMPY: soft reboot\\r\\nMicroPython v1.19.1-529-gdaf16826e-dirty on 2022-10-06; ESP32 module with ESP32\\r\\nType \"help()\" for more information.\\r\\n>>> \\r\\n>>> \\r\\n>>> '\n",
      "[\\r\\x01] b'\\r\\n>>> \\r\\nraw REPL; CTRL-B to exit\\r\\n>'"
     ]
    }
   ],
   "source": [
    "%rebootdevice"
   ]
  },
  {
   "cell_type": "code",
   "execution_count": 23,
   "id": "c4be978c",
   "metadata": {},
   "outputs": [],
   "source": [
    "from tools import CANMotorController"
   ]
  },
  {
   "cell_type": "code",
   "execution_count": 24,
   "id": "3e14d2b7",
   "metadata": {},
   "outputs": [],
   "source": [
    "from esp32 import CAN\n",
    "# TX,GPIO15,PIN 21\n",
    "# RX,GPIO13,PIN 20\n",
    "bus = CAN(0, tx=15, rx=13, baudrate=1000000, mode=CAN.NORMAL)"
   ]
  },
  {
   "cell_type": "code",
   "execution_count": 25,
   "id": "7a58ca03",
   "metadata": {},
   "outputs": [
    {
     "name": "stdout",
     "output_type": "stream",
     "text": [
      "CAN(tx=15, rx=13, baudrate=1000000kb, mode=NORMAL, loopback=0)\r\n"
     ]
    }
   ],
   "source": [
    "print(bus)"
   ]
  },
  {
   "cell_type": "code",
   "execution_count": 26,
   "id": "9d484e82",
   "metadata": {},
   "outputs": [],
   "source": [
    "motor = CANMotorController(bus, motor_id=127, main_can_id=254)"
   ]
  },
  {
   "cell_type": "markdown",
   "id": "d2190e92",
   "metadata": {},
   "source": [
    "## Jog\n",
    "单个参数写入（通信类型 18）"
   ]
  },
  {
   "cell_type": "code",
   "execution_count": 27,
   "id": "1c2b57c6",
   "metadata": {},
   "outputs": [
    {
     "name": "stdout",
     "output_type": "stream",
     "text": [
      "Sent message with ID 0x1200fe7f, data: [5, 112, 0, 0, 7, 1, 63, 255]\n",
      "Received message with ID 0x2807ffe\n",
      "pos:0.10 rad, vel:0.03 rad/s\n"
     ]
    }
   ],
   "source": [
    "jog_vel = -15  # rad/s\n",
    "uint_value = motor._float_to_uint(jog_vel, motor.V_MIN, motor.V_MAX, 16)\n",
    "jog_vel_bytes = motor.format_data(data=[uint_value], format=\"u16\", type=\"encode\")[:2][::-1]\n",
    "\n",
    "data1 = [0x05, 0x70, 0x00, 0x00, 0x07, 0x01] + jog_vel_bytes\n",
    "motor.clear_can_rx()\n",
    "received_msg_data, received_msg_arbitration_id = motor.send_receive_can_message(\n",
    "    cmd_mode=motor.CmdModes.SINGLE_PARAM_WRITE, data2=motor.MAIN_CAN_ID, data1=data1\n",
    ")\n",
    "motor.parse_received_msg(received_msg_data, received_msg_arbitration_id)"
   ]
  },
  {
   "cell_type": "markdown",
   "id": "b977c4b0",
   "metadata": {},
   "source": [
    "## 停止"
   ]
  },
  {
   "cell_type": "code",
   "execution_count": 28,
   "id": "9e6e0634",
   "metadata": {},
   "outputs": [
    {
     "name": "stdout",
     "output_type": "stream",
     "text": [
      "Sent message with ID 0x400fe7f, data: [0, 0, 0, 0, 0, 0, 0, 0]\n",
      "Received message with ID 0x2007ffe\n",
      "pos:-12.50 rad, vel:-15.01 rad/s\n"
     ]
    }
   ],
   "source": [
    "motor.disable()"
   ]
  },
  {
   "cell_type": "code",
   "execution_count": 10,
   "id": "b53ca7d0",
   "metadata": {},
   "outputs": [
    {
     "name": "stdout",
     "output_type": "stream",
     "text": [
      "Sent message with ID 0x600fe7f, data: [1]\n",
      "Received message with ID 0x2007ffe\n",
      "pos:-0.00 rad, vel:0.12 rad/s\n"
     ]
    }
   ],
   "source": [
    "motor.set_0_pos()"
   ]
  },
  {
   "cell_type": "markdown",
   "id": "e4ef7cca",
   "metadata": {},
   "source": [
    "## 读取速度和位置\n",
    "- 发送参数：单个参数写⼊（通信类型18），写入地址0x7018（电流限制）值为 27A\n",
    "- 读取返回值：电机反馈数据（通信类型2），Byte0,1: 当前⻆度，Byte2,3:当前⻆速度"
   ]
  },
  {
   "cell_type": "code",
   "execution_count": 11,
   "id": "80df3964",
   "metadata": {},
   "outputs": [
    {
     "name": "stdout",
     "output_type": "stream",
     "text": [
      "Sent message with ID 0x1200fe7f, data: [24, 112, 0, 0, 0, 0, 216, 65]\n",
      "Received message with ID 0x2007ffe\n",
      "pos:-0.00 rad, vel:-0.00 rad/s\n"
     ]
    }
   ],
   "source": [
    "motor.write_single_param(param_name=\"limit_cur\", value=27)"
   ]
  },
  {
   "cell_type": "markdown",
   "id": "fdcef3d0",
   "metadata": {},
   "source": [
    "# 位置模式\n",
    "## 发送电机模式参数写入命令（通信类型 18）\n",
    "设置 `runmode` 参数为 1\n",
    "- index(Byte0~1): `run_mode`，0x7005\n",
    "- value(Byte4~7): 1(位置模式)"
   ]
  },
  {
   "cell_type": "code",
   "execution_count": 12,
   "id": "9c280a67",
   "metadata": {},
   "outputs": [
    {
     "name": "stdout",
     "output_type": "stream",
     "text": [
      "Sent message with ID 0x1200fe7f, data: [5, 112, 0, 0, 1, 0, 0, 0]\n",
      "Received message with ID 0x2007ffe\n",
      "pos:-0.00 rad, vel:-0.03 rad/s\n"
     ]
    }
   ],
   "source": [
    "motor.write_single_param(\"run_mode\", value=1)"
   ]
  },
  {
   "cell_type": "code",
   "execution_count": 13,
   "id": "bca0d55c",
   "metadata": {
    "scrolled": true
   },
   "outputs": [
    {
     "name": "stdout",
     "output_type": "stream",
     "text": [
      "Sent message with ID 0x300fe7f, data: []\n",
      "Received message with ID 0x2807ffe\n",
      "pos:-0.00 rad, vel:0.06 rad/s\n"
     ]
    }
   ],
   "source": [
    "motor.enable()"
   ]
  },
  {
   "cell_type": "markdown",
   "id": "83be3d62",
   "metadata": {},
   "source": [
    "## 最大速度：发送电机模式参数写入命令（通信类型 18）\n",
    "设置 `limit_spd` 参数为预设最大速度指令\n",
    "- index(Byte0~1): `limit_spd`, 0x7017\n",
    "- value(Byte4~7): `float` [0,30]rad/s"
   ]
  },
  {
   "cell_type": "code",
   "execution_count": 14,
   "id": "cc433bc1",
   "metadata": {},
   "outputs": [
    {
     "name": "stdout",
     "output_type": "stream",
     "text": [
      "Sent message with ID 0x1200fe7f, data: [23, 112, 0, 0, 0, 0, 32, 65]\n",
      "Received message with ID 0x2807ffe\n",
      "pos:-0.00 rad, vel:-0.01 rad/s\n"
     ]
    }
   ],
   "source": [
    "motor.write_single_param(\"limit_spd\", value=10)"
   ]
  },
  {
   "cell_type": "markdown",
   "id": "903e4ed4",
   "metadata": {},
   "source": [
    "## 目标位置：发送电机模式参数写入命令（通信类型 18）\n",
    "设置 `loc_ref` 参数为预设位置指令\n",
    "- index(Byte0~1): `loc_ref`, 0x7016\n",
    "- value(Byte4~7): `float` rad"
   ]
  },
  {
   "cell_type": "code",
   "execution_count": 15,
   "id": "a07fba09",
   "metadata": {},
   "outputs": [
    {
     "name": "stdout",
     "output_type": "stream",
     "text": [
      "Sent message with ID 0x1200fe7f, data: [22, 112, 0, 0, 195, 245, 72, 64]\n",
      "Received message with ID 0x2807ffe\n",
      "pos:-0.00 rad, vel:-0.10 rad/s\n"
     ]
    }
   ],
   "source": [
    "motor.write_single_param(\"loc_ref\", value=3.14)"
   ]
  },
  {
   "cell_type": "code",
   "execution_count": 16,
   "id": "7be81906",
   "metadata": {},
   "outputs": [
    {
     "name": "stdout",
     "output_type": "stream",
     "text": [
      "Sent message with ID 0x400fe7f, data: [0, 0, 0, 0, 0, 0, 0, 0]\n",
      "Received message with ID 0x2007ffe\n",
      "pos:3.14 rad, vel:-0.03 rad/s\n",
      "Sent message with ID 0x1200fe7f, data: [23, 112, 0, 0, 0, 0, 32, 65]\n",
      "Received message with ID 0x2007ffe\n",
      "pos:3.14 rad, vel:0.06 rad/s\n",
      "Sent message with ID 0x1200fe7f, data: [22, 112, 0, 0, 0, 0, 0, 0]\n",
      "Received message with ID 0x2007ffe\n",
      "pos:3.14 rad, vel:-0.00 rad/s\n",
      "Sent message with ID 0x600fe7f, data: [1]\n",
      "Received message with ID 0x2007ffe\n",
      "pos:-0.00 rad, vel:-0.07 rad/s\n",
      "Sent message with ID 0x300fe7f, data: []\n",
      "Received message with ID 0x2807ffe\n",
      "pos:-0.00 rad, vel:-0.01 rad/s\n",
      "Sent message with ID 0x1200fe7f, data: [23, 112, 0, 0, 102, 102, 30, 65]\n",
      "Received message with ID 0x2807ffe\n",
      "pos:-0.00 rad, vel:-0.04 rad/s\n",
      "Sent message with ID 0x1200fe7f, data: [22, 112, 0, 0, 122, 20, 190, 64]\n",
      "Received message with ID 0x2807ffe\n",
      "pos:-0.00 rad, vel:-0.02 rad/s\n",
      "Sent message with ID 0x1200fe7f, data: [23, 112, 0, 0, 102, 102, 30, 65]\n",
      "Received message with ID 0x2807ffe\n",
      "pos:5.85 rad, vel:6.63 rad/s\n",
      "Sent message with ID 0x1200fe7f, data: [22, 112, 0, 0, 122, 20, 62, 65]\n",
      "Received message with ID 0x2807ffe\n",
      "pos:5.88 rad, vel:5.72 rad/s\n",
      "Sent message with ID 0x1200fe7f, data: [23, 112, 0, 0, 0, 0, 88, 65]\n",
      "Received message with ID 0x2807ffe\n",
      "pos:11.82 rad, vel:5.60 rad/s\n",
      "Sent message with ID 0x1200fe7f, data: [22, 112, 0, 0, 10, 215, 159, 65]\n",
      "Received message with ID 0x2807ffe\n",
      "pos:11.85 rad, vel:4.70 rad/s\n",
      "Sent message with ID 0x1200fe7f, data: [23, 112, 0, 0, 0, 0, 88, 65]\n",
      "Received message with ID 0x2807ffe\n",
      "pos:12.50 rad, vel:7.25 rad/s\n",
      "Sent message with ID 0x1200fe7f, data: [22, 112, 0, 0, 215, 163, 224, 65]\n",
      "Received message with ID 0x2807ffe\n",
      "pos:12.50 rad, vel:6.00 rad/s\n",
      "Sent message with ID 0x1200fe7f, data: [23, 112, 0, 0, 0, 0, 112, 65]\n",
      "Received message with ID 0x2807ffe\n",
      "pos:12.50 rad, vel:7.25 rad/s\n",
      "Sent message with ID 0x1200fe7f, data: [22, 112, 0, 0, 236, 81, 20, 66]\n",
      "Received message with ID 0x2807ffe\n",
      "pos:12.50 rad, vel:6.05 rad/s\n",
      "Sent message with ID 0x1200fe7f, data: [23, 112, 0, 0, 0, 0, 112, 65]\n",
      "Received message with ID 0x2807ffe\n",
      "pos:12.50 rad, vel:7.96 rad/s\n",
      "Sent message with ID 0x1200fe7f, data: [22, 112, 0, 0, 236, 81, 56, 66]\n",
      "Received message with ID 0x2807ffe\n",
      "pos:12.50 rad, vel:6.54 rad/s\n",
      "Sent message with ID 0x1200fe7f, data: [23, 112, 0, 0, 0, 0, 88, 65]\n",
      "Received message with ID 0x2807ffe\n",
      "pos:12.50 rad, vel:8.46 rad/s\n",
      "Sent message with ID 0x1200fe7f, data: [22, 112, 0, 0, 185, 30, 121, 66]\n",
      "Received message with ID 0x2807ffe\n",
      "pos:12.50 rad, vel:6.88 rad/s\n",
      "Sent message with ID 0x1200fe7f, data: [23, 112, 0, 0, 0, 0, 64, 65]\n",
      "Received message with ID 0x2807ffe\n",
      "pos:12.50 rad, vel:7.51 rad/s\n",
      "Sent message with ID 0x1200fe7f, data: [22, 112, 0, 0, 195, 245, 138, 66]\n",
      "Received message with ID 0x2807ffe\n",
      "pos:12.50 rad, vel:6.34 rad/s\n",
      "Sent message with ID 0x1200fe7f, data: [23, 112, 0, 0, 0, 0, 64, 65]\n",
      "Received message with ID 0x2807ffe\n",
      "pos:12.50 rad, vel:6.87 rad/s\n",
      "Sent message with ID 0x1200fe7f, data: [22, 112, 0, 0, 41, 92, 153, 66]\n",
      "Received message with ID 0x2807ffe\n",
      "pos:12.50 rad, vel:5.74 rad/s\n",
      ".Sent message with ID 0x1200fe7f, data: [23, 112, 0, 0, 52, 51, 47, 65]\n",
      "Received message with ID 0x2807ffe\n",
      "pos:12.50 rad, vel:7.26 rad/s\n",
      "Sent message with ID 0x1200fe7f, data: [22, 112, 0, 0, 0, 128, 166, 66]\n",
      "Received message with ID 0x2807ffe\n",
      "pos:12.50 rad, vel:6.09 rad/s\n",
      "Sent message with ID 0x1200fe7f, data: [23, 112, 0, 0, 52, 51, 47, 65]\n",
      "Received message with ID 0x2807ffe\n",
      "pos:12.50 rad, vel:6.41 rad/s\n",
      "Sent message with ID 0x1200fe7f, data: [22, 112, 0, 0, 215, 163, 179, 66]\n",
      "Received message with ID 0x2807ffe\n",
      "pos:12.50 rad, vel:5.45 rad/s\n",
      "Sent message with ID 0x1200fe7f, data: [23, 112, 0, 0, 52, 51, 35, 65]\n",
      "Received message with ID 0x2807ffe\n",
      "pos:12.50 rad, vel:6.28 rad/s\n",
      "Sent message with ID 0x1200fe7f, data: [22, 112, 0, 0, 72, 225, 191, 66]\n",
      "Received message with ID 0x2807ffe\n",
      "pos:12.50 rad, vel:5.30 rad/s\n",
      "Sent message with ID 0x1200fe7f, data: [23, 112, 0, 0, 52, 51, 35, 65]\n",
      "Received message with ID 0x2807ffe\n",
      "pos:12.50 rad, vel:5.84 rad/s\n",
      "Sent message with ID 0x1200fe7f, data: [22, 112, 0, 0, 185, 30, 204, 66]\n",
      "Received message with ID 0x2807ffe\n",
      "pos:12.50 rad, vel:4.87 rad/s\n",
      "Sent message with ID 0x1200fe7f, data: [23, 112, 0, 0, 102, 102, 30, 65]\n",
      "Received message with ID 0x2807ffe\n",
      "pos:12.50 rad, vel:5.98 rad/s\n",
      "Sent message with ID 0x1200fe7f, data: [22, 112, 0, 0, 72, 225, 227, 66]\n",
      "Received message with ID 0x2807ffe\n",
      "pos:12.50 rad, vel:5.14 rad/s\n",
      "Sent message with ID 0x1200fe7f, data: [23, 112, 0, 0, 0, 0, 88, 65]\n",
      "Received message with ID 0x2807ffe\n",
      "pos:12.50 rad, vel:5.65 rad/s\n",
      "Sent message with ID 0x1200fe7f, data: [22, 112, 0, 0, 123, 20, 244, 66]\n",
      "Received message with ID 0x2807ffe\n",
      "pos:12.50 rad, vel:4.61 rad/s\n",
      "Sent message with ID 0x1200fe7f, data: [23, 112, 0, 0, 0, 0, 88, 65]\n",
      "Received message with ID 0x2807ffe\n",
      "pos:12.50 rad, vel:7.27 rad/s\n",
      "Sent message with ID 0x1200fe7f, data: [22, 112, 0, 0, 215, 35, 2, 67]\n",
      "Received message with ID 0x2807ffe\n",
      "pos:12.50 rad, vel:6.07 rad/s\n",
      "Sent message with ID 0x1200fe7f, data: [23, 112, 0, 0, 0, 0, 64, 65]\n",
      "Received message with ID 0x2807ffe\n",
      "pos:12.50 rad, vel:7.62 rad/s\n",
      "Sent message with ID 0x1200fe7f, data: [22, 112, 0, 0, 10, 87, 9, 67]\n",
      "Received message with ID 0x2807ffe\n",
      "pos:12.50 rad, vel:6.38 rad/s\n",
      "Sent message with ID 0x1200fe7f, data: [23, 112, 0, 0, 0, 0, 64, 65]\n",
      "Received message with ID 0x2807ffe\n",
      "pos:12.50 rad, vel:6.65 rad/s\n",
      "Sent message with ID 0x1200fe7f, data: [22, 112, 0, 0, 61, 138, 16, 67]\n",
      "Received message with ID 0x2807ffe\n",
      "pos:12.50 rad, vel:5.67 rad/s\n",
      ".Sent message with ID 0x1200fe7f, data: [23, 112, 0, 0, 52, 51, 47, 65]\n",
      "Received message with ID 0x2807ffe\n",
      "pos:12.50 rad, vel:6.66 rad/s\n",
      "Sent message with ID 0x1200fe7f, data: [22, 112, 0, 0, 41, 28, 23, 67]\n",
      "Received message with ID 0x2807ffe\n",
      "pos:12.50 rad, vel:5.62 rad/s\n",
      "Sent message with ID 0x1200fe7f, data: [23, 112, 0, 0, 52, 51, 47, 65]\n",
      "Received message with ID 0x2807ffe\n",
      "pos:12.50 rad, vel:6.37 rad/s\n",
      "Sent message with ID 0x1200fe7f, data: [22, 112, 0, 0, 21, 174, 29, 67]\n",
      "Received message with ID 0x2807ffe\n",
      "pos:12.50 rad, vel:5.42 rad/s\n",
      "Sent message with ID 0x1200fe7f, data: [23, 112, 0, 0, 52, 51, 35, 65]\n",
      "Received message with ID 0x2807ffe\n",
      "pos:12.50 rad, vel:6.31 rad/s\n",
      "Sent message with ID 0x1200fe7f, data: [22, 112, 0, 0, 134, 235, 41, 67]\n",
      "Received message with ID 0x2807ffe\n",
      "pos:12.50 rad, vel:5.41 rad/s\n",
      "Sent message with ID 0x1200fe7f, data: [23, 112, 0, 0, 0, 0, 88, 65]\n",
      "Received message with ID 0x2807ffe\n",
      "pos:12.50 rad, vel:5.91 rad/s\n",
      "Sent message with ID 0x1200fe7f, data: [22, 112, 0, 0, 32, 5, 50, 67]\n",
      "Received message with ID 0x2807ffe\n",
      "pos:12.50 rad, vel:5.11 rad/s\n",
      "Sent message with ID 0x1200fe7f, data: [23, 112, 0, 0, 0, 0, 88, 65]\n",
      "Received message with ID 0x2807ffe\n",
      "pos:12.50 rad, vel:7.60 rad/s\n",
      "Sent message with ID 0x1200fe7f, data: [22, 112, 0, 0, 186, 30, 58, 67]\n",
      "Received message with ID 0x2807ffe\n",
      "pos:12.50 rad, vel:6.28 rad/s\n",
      "Sent message with ID 0x1200fe7f, data: [23, 112, 0, 0, 0, 0, 64, 65]\n",
      "Received message with ID 0x2807ffe\n",
      "pos:12.50 rad, vel:7.59 rad/s\n",
      "Sent message with ID 0x1200fe7f, data: [22, 112, 0, 0, 237, 81, 65, 67]\n",
      "Received message with ID 0x2807ffe\n",
      "pos:12.50 rad, vel:6.32 rad/s\n",
      "Sent message with ID 0x1200fe7f, data: [23, 112, 0, 0, 0, 0, 64, 65]\n",
      "Received message with ID 0x2807ffe\n",
      "pos:12.50 rad, vel:6.76 rad/s\n",
      "Sent message with ID 0x1200fe7f, data: [22, 112, 0, 0, 32, 133, 72, 67]\n",
      "Received message with ID 0x2807ffe\n",
      "pos:12.50 rad, vel:5.75 rad/s\n",
      "Sent message with ID 0x1200fe7f, data: [23, 112, 0, 0, 52, 51, 47, 65]\n",
      "Received message with ID 0x2807ffe\n",
      "pos:12.50 rad, vel:6.56 rad/s\n",
      "Sent message with ID 0x1200fe7f, data: [22, 112, 0, 0, 12, 23, 79, 67]\n",
      "Received message with ID 0x2807ffe\n",
      "pos:12.50 rad, vel:5.57 rad/s\n",
      "Sent message with ID 0x1200fe7f, data: [23, 112, 0, 0, 52, 51, 47, 65]\n",
      "Received message with ID 0x2807ffe\n",
      "pos:12.50 rad, vel:6.33 rad/s\n",
      "Sent message with ID 0x1200fe7f, data: [22, 112, 0, 0, 248, 168, 85, 67]\n",
      "Received message with ID 0x2807ffe\n",
      "pos:12.50 rad, vel:5.40 rad/s\n",
      ".Sent message with ID 0x1200fe7f, data: [23, 112, 0, 0, 52, 51, 35, 65]\n",
      "Received message with ID 0x2807ffe\n",
      "pos:12.50 rad, vel:6.42 rad/s\n",
      "Sent message with ID 0x1200fe7f, data: [22, 112, 0, 0, 105, 230, 97, 67]\n",
      "Received message with ID 0x2807ffe\n"
     ]
    },
    {
     "name": "stdout",
     "output_type": "stream",
     "text": [
      "pos:12.50 rad, vel:5.53 rad/s\n",
      "Sent message with ID 0x1200fe7f, data: [23, 112, 0, 0, 102, 102, 30, 65]\n",
      "Received message with ID 0x2807ffe\n",
      "pos:12.50 rad, vel:5.87 rad/s\n",
      "Sent message with ID 0x1200fe7f, data: [22, 112, 0, 0, 13, 215, 103, 67]\n",
      "Received message with ID 0x2807ffe\n",
      "pos:12.50 rad, vel:4.98 rad/s\n",
      "Sent message with ID 0x1200fe7f, data: [23, 112, 0, 0, 102, 102, 30, 65]\n",
      "Received message with ID 0x2807ffe\n",
      "pos:12.50 rad, vel:5.57 rad/s\n",
      "Sent message with ID 0x1200fe7f, data: [22, 112, 0, 0, 177, 199, 109, 67]\n",
      "Received message with ID 0x2807ffe\n",
      "pos:12.50 rad, vel:4.81 rad/s\n",
      "Sent message with ID 0x1200fe7f, data: [23, 112, 0, 0, 0, 0, 88, 65]\n",
      "Received message with ID 0x2807ffe\n",
      "pos:12.50 rad, vel:5.67 rad/s\n",
      "Sent message with ID 0x1200fe7f, data: [22, 112, 0, 0, 75, 225, 117, 67]\n",
      "Received message with ID 0x2807ffe\n",
      "pos:12.50 rad, vel:4.85 rad/s\n",
      "Sent message with ID 0x1200fe7f, data: [23, 112, 0, 0, 0, 0, 88, 65]\n",
      "Received message with ID 0x2807ffe\n",
      "pos:12.50 rad, vel:7.61 rad/s\n",
      "Sent message with ID 0x1200fe7f, data: [22, 112, 0, 0, 229, 250, 125, 67]\n",
      "Received message with ID 0x2807ffe\n",
      "pos:12.50 rad, vel:6.35 rad/s\n",
      "Sent message with ID 0x1200fe7f, data: [23, 112, 0, 0, 0, 0, 112, 65]\n",
      "Received message with ID 0x2807ffe\n",
      "pos:12.50 rad, vel:7.12 rad/s\n",
      "Sent message with ID 0x1200fe7f, data: [22, 112, 0, 0, 114, 125, 131, 67]\n",
      "Received message with ID 0x2807ffe\n",
      "pos:12.50 rad, vel:5.84 rad/s\n",
      "Sent message with ID 0x1200fe7f, data: [23, 112, 0, 0, 0, 0, 112, 65]\n",
      "Received message with ID 0x2807ffe\n",
      "pos:12.50 rad, vel:8.66 rad/s\n",
      "Sent message with ID 0x1200fe7f, data: [22, 112, 0, 0, 114, 253, 135, 67]\n",
      "Received message with ID 0x2807ffe\n",
      "pos:12.50 rad, vel:7.16 rad/s\n",
      "Sent message with ID 0x1200fe7f, data: [23, 112, 0, 0, 0, 0, 88, 65]\n",
      "Received message with ID 0x2807ffe\n",
      "pos:12.50 rad, vel:8.34 rad/s\n",
      "Sent message with ID 0x1200fe7f, data: [22, 112, 0, 0, 12, 23, 144, 67]\n",
      "Received message with ID 0x2807ffe\n",
      "pos:12.50 rad, vel:6.77 rad/s\n",
      ".Sent message with ID 0x1200fe7f, data: [23, 112, 0, 0, 0, 0, 64, 65]\n",
      "Received message with ID 0x2807ffe\n",
      "pos:12.50 rad, vel:7.43 rad/s\n",
      "Sent message with ID 0x1200fe7f, data: [22, 112, 0, 0, 166, 176, 147, 67]\n",
      "Received message with ID 0x2807ffe\n",
      "pos:12.50 rad, vel:6.13 rad/s\n",
      "Sent message with ID 0x1200fe7f, data: [23, 112, 0, 0, 0, 0, 64, 65]\n",
      "Received message with ID 0x2807ffe\n",
      "pos:12.50 rad, vel:6.68 rad/s\n",
      "Sent message with ID 0x1200fe7f, data: [22, 112, 0, 0, 64, 74, 151, 67]\n",
      "Received message with ID 0x2807ffe\n",
      "pos:12.50 rad, vel:5.68 rad/s\n",
      "Sent message with ID 0x1200fe7f, data: [23, 112, 0, 0, 52, 51, 47, 65]\n",
      "Received message with ID 0x2807ffe\n",
      "pos:12.50 rad, vel:7.00 rad/s\n",
      "Sent message with ID 0x1200fe7f, data: [22, 112, 0, 0, 54, 147, 154, 67]\n",
      "Received message with ID 0x2807ffe\n",
      "pos:12.50 rad, vel:5.84 rad/s\n",
      "Sent message with ID 0x1200fe7f, data: [23, 112, 0, 0, 52, 51, 47, 65]\n",
      "Received message with ID 0x2807ffe\n",
      "pos:12.50 rad, vel:6.37 rad/s\n",
      "Sent message with ID 0x1200fe7f, data: [22, 112, 0, 0, 44, 220, 157, 67]\n",
      "Received message with ID 0x2807ffe\n",
      "pos:12.50 rad, vel:5.38 rad/s\n",
      "Sent message with ID 0x1200fe7f, data: [23, 112, 0, 0, 52, 51, 35, 65]\n",
      "Received message with ID 0x2807ffe\n",
      "pos:12.50 rad, vel:6.34 rad/s\n",
      "Sent message with ID 0x1200fe7f, data: [22, 112, 0, 0, 136, 235, 160, 67]\n",
      "Received message with ID 0x2807ffe\n",
      "pos:12.50 rad, vel:4.74 rad/s\n",
      "Sent message with ID 0x1200fe7f, data: [23, 112, 0, 0, 52, 51, 35, 65]\n",
      "Received message with ID 0x2807ffe\n",
      "pos:12.50 rad, vel:6.30 rad/s\n",
      "Sent message with ID 0x1200fe7f, data: [22, 112, 0, 0, 228, 250, 163, 67]\n",
      "Received message with ID 0x2807ffe\n",
      "pos:12.50 rad, vel:5.43 rad/s\n",
      "Sent message with ID 0x1200fe7f, data: [23, 112, 0, 0, 102, 102, 30, 65]\n",
      "Received message with ID 0x2807ffe\n",
      "pos:12.50 rad, vel:6.00 rad/s\n",
      "Sent message with ID 0x1200fe7f, data: [22, 112, 0, 0, 136, 235, 169, 67]\n",
      "Received message with ID 0x2807ffe\n",
      "pos:12.50 rad, vel:5.17 rad/s\n"
     ]
    },
    {
     "name": "stderr",
     "output_type": "stream",
     "text": [
      "Traceback (most recent call last):\n",
      "  File \"<stdin>\", line 53, in <module>\n",
      "NameError: name 'disable' isn't defined\n"
     ]
    }
   ],
   "source": [
    "import time\n",
    "# 定义音符到电机参数的映射，为后面的音符分配更高的转速值\n",
    "note_to_speed = {\"C\": 6.6, \"D\": 6.8, \"E\": 7.3, \"F\": 8, \"G\": 9, \"A\": 10, \"B\": 13}\n",
    "\n",
    "# 定义小星星的音符和时长\n",
    "# 完整定义小星星的音符和时长\n",
    "notes = [\"C\", \"C\", \"G\", \"G\", \"A\", \"A\", \"G\",\n",
    "         \"F\", \"F\", \"E\", \"E\", \"D\", \"D\", \"C\",\n",
    "         \"G\", \"G\", \"F\", \"F\", \"E\", \"E\", \"D\",\n",
    "         \"G\", \"G\", \"F\", \"F\", \"E\", \"E\", \"D\",\n",
    "         \"C\", \"C\", \"G\", \"G\", \"A\", \"A\", \"G\",\n",
    "         \"F\", \"F\", \"E\", \"E\", \"D\", \"D\", \"C\"]\n",
    "\n",
    "durations = [1, 1, 1, 1, 1, 1, 2,\n",
    "             1, 1, 1, 1, 1, 1, 2,\n",
    "             1, 1, 1, 1, 1, 1, 2,\n",
    "             1, 1, 1, 1, 1, 1, 2,\n",
    "             1, 1, 1, 1, 1, 1, 2,\n",
    "             1, 1, 1, 1, 1, 1, 2]  # 以四分音符为单位\n",
    "\n",
    "x_speed = 1.5 # 速度倍数\n",
    "x_duration = 0.4 # 间隔倍数，如果小于1，就是减小时间间隔\n",
    "\n",
    "\n",
    "# 初始化电机的当前位置和方向标志\n",
    "current_loc_ref = 0\n",
    "direction_flag = 1  # 1表示正方向，-1表示反方向\n",
    "\n",
    "motor.disable() #\n",
    "motor.set_motor_position_control(limit_spd=10, loc_ref=0)\n",
    "motor.set_0_pos()  # 当前0位\n",
    "motor.enable()\n",
    "\n",
    "# 播放小星星\n",
    "for note, duration in zip(notes, durations):\n",
    "    duration = duration * x_duration\n",
    "    \n",
    "    # 计算电机的转速和目标位置\n",
    "    limit_spd = note_to_speed[note] * x_speed\n",
    "    loc_ref = current_loc_ref + (direction_flag * limit_spd * duration * 1.5)\n",
    "\n",
    "    # 使用电机参数设置函数\n",
    "    motor.set_motor_position_control(limit_spd=limit_spd, loc_ref=loc_ref)\n",
    "\n",
    "    # 更新电机的当前位置\n",
    "    current_loc_ref = loc_ref\n",
    "\n",
    "    # 反转方向标志\n",
    "#     direction_flag *= -1\n",
    "\n",
    "    # 休眠一段时间以模拟音符的时长（这里假设一个四分音符的时长是1秒）\n",
    "    time.sleep(duration * x_speed)\n",
    "disable()"
   ]
  },
  {
   "cell_type": "code",
   "execution_count": 17,
   "id": "98831b4d",
   "metadata": {},
   "outputs": [
    {
     "name": "stdout",
     "output_type": "stream",
     "text": [
      "Sent message with ID 0x600fe7f, data: [1]\n",
      "Received message with ID 0x2807ffe\n",
      "pos:-0.00 rad, vel:0.23 rad/s\n",
      "Sent message with ID 0x400fe7f, data: [0, 0, 0, 0, 0, 0, 0, 0]\n",
      "Received message with ID 0x2007ffe\n",
      "pos:0.00 rad, vel:1.95 rad/s\n"
     ]
    }
   ],
   "source": [
    "motor.set_0_pos()\n",
    "motor.disable()"
   ]
  },
  {
   "cell_type": "code",
   "execution_count": 18,
   "id": "57be7bd7",
   "metadata": {},
   "outputs": [
    {
     "name": "stdout",
     "output_type": "stream",
     "text": [
      "Sent message with ID 0x300fe7f, data: []\n",
      "Received message with ID 0x2807ffe\n",
      "pos:0.10 rad, vel:0.03 rad/s\n"
     ]
    }
   ],
   "source": [
    "motor.enable()"
   ]
  },
  {
   "cell_type": "code",
   "execution_count": 19,
   "id": "a00ed80c",
   "metadata": {},
   "outputs": [
    {
     "name": "stdout",
     "output_type": "stream",
     "text": [
      "repl is in normal command mode\n",
      "[\\r\\x03\\x03] b'\\r\\nMicroPython v1.19.1-529-gdaf16826e-dirty on 2022-10-06; ESP32 module with ESP32\\r\\nType \"help()\" for more information.\\r\\n>>> \\r\\n>>> \\r\\nMPY: soft reboot\\r\\nMicroPython v1.19.1-529-gdaf16826e-dirty on 2022-10-06; ESP32 module with ESP32\\r\\nType \"help()\" for more information.\\r\\n>>> \\r\\n>>> \\r\\n>>> '\n",
      "[\\r\\x01] b'\\r\\n>>> \\r\\nraw REPL; CTRL-B to exit\\r\\n>'"
     ]
    }
   ],
   "source": [
    "%rebootdevice"
   ]
  },
  {
   "cell_type": "code",
   "execution_count": 20,
   "id": "e2293782",
   "metadata": {},
   "outputs": [
    {
     "name": "stdout",
     "output_type": "stream",
     "text": [
      "\u001b[34mattempt to exit paste mode\n",
      "\u001b[0m\u001b[34m[\\r\\x03\\x02] \u001b[0mb'\\r\\nMicroPython v1.19.1-529-gdaf16826e-dirty on 2022-10-06; ESP32 module with ESP32\\r\\nType \"help()\" for more information.\\r\\n>>> '\u001b[34m\n",
      "Closing serial Serial<id=0x21d8f086ca0, open=True>(port='COM15', baudrate=115200, bytesize=8, parity='N', stopbits=1, timeout=0.5, xonxoff=False, rtscts=False, dsrdtr=False)\n",
      "\u001b[0m"
     ]
    }
   ],
   "source": [
    "%disconnect"
   ]
  },
  {
   "cell_type": "code",
   "execution_count": null,
   "id": "d3bdc904",
   "metadata": {},
   "outputs": [],
   "source": []
  }
 ],
 "metadata": {
  "kernelspec": {
   "display_name": "MicroPython - USB",
   "language": "micropython",
   "name": "micropython"
  },
  "language_info": {
   "codemirror_mode": "python",
   "file_extension": ".py",
   "mimetype": "text/python",
   "name": "micropython"
  }
 },
 "nbformat": 4,
 "nbformat_minor": 5
}
