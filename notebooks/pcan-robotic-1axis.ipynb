{
 "cells": [
  {
   "cell_type": "markdown",
   "id": "60d186d5",
   "metadata": {},
   "source": [
    "# 单轴调试"
   ]
  },
  {
   "cell_type": "code",
   "execution_count": null,
   "id": "a8708012",
   "metadata": {
    "ExecuteTime": {
     "end_time": "2023-10-21T12:23:49.646797Z",
     "start_time": "2023-10-21T12:23:49.538647Z"
    }
   },
   "outputs": [],
   "source": [
    "import os\n",
    "import sys\n",
    "# 添加pcan_cybergear库的路径\n",
    "sys.path.append(os.path.join(\"..\", \"cybergear\"))\n",
    "\n",
    "from pcan_cybergear import CANMotorController\n",
    "import can\n",
    "import logging\n",
    "# Initialize logging\n",
    "logging.basicConfig(level=logging.WARNING, format='%(asctime)s - %(levelname)s - %(message)s')"
   ]
  },
  {
   "cell_type": "code",
   "execution_count": null,
   "id": "bcee4222",
   "metadata": {
    "ExecuteTime": {
     "end_time": "2023-10-21T12:23:49.974463Z",
     "start_time": "2023-10-21T12:23:49.931476Z"
    }
   },
   "outputs": [],
   "source": [
    "# Connect to the CAN bus with 1 Mbit/s bitrate\n",
    "bus = can.interface.Bus(bustype=\"pcan\", channel=\"PCAN_USBBUS1\", bitrate=1000000)\n",
    "motor1 = CANMotorController(bus, motor_id=101, main_can_id=254)\n",
    "motor2 = CANMotorController(bus, motor_id=102, main_can_id=254)\n",
    "motor3 = CANMotorController(bus, motor_id=103, main_can_id=254)"
   ]
  },
  {
   "cell_type": "code",
   "execution_count": null,
   "id": "b91bd39f",
   "metadata": {
    "ExecuteTime": {
     "end_time": "2023-10-21T12:25:35.654000Z",
     "start_time": "2023-10-21T12:25:35.652000Z"
    }
   },
   "outputs": [],
   "source": [
    "motor = motor2"
   ]
  },
  {
   "cell_type": "code",
   "execution_count": null,
   "id": "f3a086fa",
   "metadata": {
    "ExecuteTime": {
     "end_time": "2023-10-21T12:31:20.658702Z",
     "start_time": "2023-10-21T12:31:20.642702Z"
    }
   },
   "outputs": [],
   "source": [
    "motor.write_param_table(\"limit_cur\", 1.5)"
   ]
  },
  {
   "cell_type": "code",
   "execution_count": null,
   "id": "e51c66a7",
   "metadata": {
    "ExecuteTime": {
     "end_time": "2023-10-21T12:25:38.577698Z",
     "start_time": "2023-10-21T12:25:38.563117Z"
    }
   },
   "outputs": [],
   "source": [
    "motor.write_param_table(\"loc_kp\", 8)"
   ]
  },
  {
   "cell_type": "code",
   "execution_count": null,
   "id": "31377c1a",
   "metadata": {
    "ExecuteTime": {
     "end_time": "2023-10-18T01:04:13.875162Z",
     "start_time": "2023-10-18T01:04:13.859640Z"
    }
   },
   "outputs": [],
   "source": [
    "motor.write_param_table(\"spd_kp\", 2)"
   ]
  },
  {
   "cell_type": "code",
   "execution_count": null,
   "id": "d7c01cce",
   "metadata": {
    "ExecuteTime": {
     "end_time": "2023-10-18T01:04:14.052611Z",
     "start_time": "2023-10-18T01:04:14.038542Z"
    }
   },
   "outputs": [],
   "source": [
    "motor.write_param_table(\"spd_ki\", 0.03)"
   ]
  },
  {
   "cell_type": "code",
   "execution_count": null,
   "id": "2f4fb319",
   "metadata": {
    "ExecuteTime": {
     "end_time": "2023-10-21T14:27:16.120213Z",
     "start_time": "2023-10-21T14:27:16.103764Z"
    }
   },
   "outputs": [],
   "source": [
    "motor.write_param_table(\"cur_kp\", 0.0125) # 默认0.125"
   ]
  },
  {
   "cell_type": "code",
   "execution_count": null,
   "id": "78152227",
   "metadata": {
    "ExecuteTime": {
     "end_time": "2023-10-21T12:25:50.899247Z",
     "start_time": "2023-10-21T12:25:50.883246Z"
    }
   },
   "outputs": [],
   "source": [
    "motor.write_param_table(\"cur_ki\", 0.1) # 默认0.0158"
   ]
  },
  {
   "cell_type": "code",
   "execution_count": null,
   "id": "65d753a4",
   "metadata": {
    "ExecuteTime": {
     "end_time": "2023-10-18T01:04:14.274370Z",
     "start_time": "2023-10-18T01:04:14.260236Z"
    }
   },
   "outputs": [],
   "source": [
    "motor.write_param_table(\"spd_filt_gain\", 0.1)"
   ]
  },
  {
   "cell_type": "markdown",
   "id": "86cb5366",
   "metadata": {},
   "source": [
    "## 停止"
   ]
  },
  {
   "cell_type": "code",
   "execution_count": null,
   "id": "d0ea5625",
   "metadata": {
    "ExecuteTime": {
     "end_time": "2023-10-21T14:13:07.368079Z",
     "start_time": "2023-10-21T14:13:07.348474Z"
    }
   },
   "outputs": [],
   "source": [
    "motor.disable()\n",
    "motor.set_0_pos()"
   ]
  },
  {
   "cell_type": "markdown",
   "id": "fdcef3d0",
   "metadata": {},
   "source": [
    "# 位置模式"
   ]
  },
  {
   "cell_type": "code",
   "execution_count": null,
   "id": "9c280a67",
   "metadata": {
    "ExecuteTime": {
     "end_time": "2023-10-21T12:26:18.562711Z",
     "start_time": "2023-10-21T12:26:18.547696Z"
    }
   },
   "outputs": [],
   "source": [
    "motor.set_run_mode(motor.RunModes.POSITION_MODE)"
   ]
  },
  {
   "cell_type": "code",
   "execution_count": null,
   "id": "bca0d55c",
   "metadata": {
    "ExecuteTime": {
     "end_time": "2023-10-21T14:13:20.322348Z",
     "start_time": "2023-10-21T14:13:20.314796Z"
    }
   },
   "outputs": [],
   "source": [
    "motor.enable()"
   ]
  },
  {
   "cell_type": "code",
   "execution_count": null,
   "id": "a07fba09",
   "metadata": {
    "ExecuteTime": {
     "end_time": "2023-10-21T12:26:45.596718Z",
     "start_time": "2023-10-21T12:26:42.556404Z"
    }
   },
   "outputs": [],
   "source": [
    "import time\n",
    "motor.write_single_param(\"loc_ref\", value=-0.5)\n",
    "time.sleep(1.5)\n",
    "motor.write_single_param(\"loc_ref\", value=0.5)\n",
    "time.sleep(1.5)\n",
    "motor.write_single_param(\"loc_ref\", value=0)"
   ]
  },
  {
   "cell_type": "code",
   "execution_count": null,
   "id": "cc433bc1",
   "metadata": {
    "ExecuteTime": {
     "end_time": "2023-10-21T14:02:00.105856Z",
     "start_time": "2023-10-21T14:02:00.091784Z"
    }
   },
   "outputs": [],
   "source": [
    "motor.write_single_param(\"limit_spd\", value=4)"
   ]
  },
  {
   "cell_type": "code",
   "execution_count": null,
   "id": "54bbaea6",
   "metadata": {
    "ExecuteTime": {
     "end_time": "2023-10-18T03:09:23.805545Z",
     "start_time": "2023-10-18T03:09:23.789565Z"
    }
   },
   "outputs": [],
   "source": [
    "motor.write_single_param(\"loc_ref\", value=0)"
   ]
  },
  {
   "cell_type": "code",
   "execution_count": null,
   "id": "fd6fd4da",
   "metadata": {},
   "outputs": [],
   "source": [
    "motor.set_motor_position_control(1, 0)"
   ]
  },
  {
   "cell_type": "code",
   "execution_count": null,
   "id": "98831b4d",
   "metadata": {
    "ExecuteTime": {
     "end_time": "2023-10-15T15:14:26.362848Z",
     "start_time": "2023-10-15T15:14:26.343845Z"
    }
   },
   "outputs": [],
   "source": [
    "motor.disable()\n",
    "motor.set_0_pos()"
   ]
  },
  {
   "cell_type": "markdown",
   "id": "9eee2db3",
   "metadata": {},
   "source": [
    "# 运控模式"
   ]
  },
  {
   "cell_type": "code",
   "execution_count": null,
   "id": "0b403f0b",
   "metadata": {
    "ExecuteTime": {
     "end_time": "2023-10-18T01:04:24.916315Z",
     "start_time": "2023-10-18T01:04:24.901310Z"
    }
   },
   "outputs": [],
   "source": [
    "motor.set_run_mode(motor.RunModes.CONTROL_MODE)"
   ]
  },
  {
   "cell_type": "code",
   "execution_count": null,
   "id": "c19da7ab",
   "metadata": {
    "ExecuteTime": {
     "end_time": "2023-10-18T01:38:15.362477Z",
     "start_time": "2023-10-18T01:38:15.356452Z"
    }
   },
   "outputs": [],
   "source": [
    "motor.enable()"
   ]
  },
  {
   "cell_type": "code",
   "execution_count": null,
   "id": "72dd5fb2",
   "metadata": {
    "ExecuteTime": {
     "end_time": "2023-10-18T01:38:16.040480Z",
     "start_time": "2023-10-18T01:38:16.035480Z"
    }
   },
   "outputs": [],
   "source": [
    "motor.send_motor_control_command(torque=0, target_angle=0, target_velocity=0, Kp=1, Kd=0)"
   ]
  },
  {
   "cell_type": "code",
   "execution_count": null,
   "id": "200fdff2",
   "metadata": {
    "ExecuteTime": {
     "end_time": "2023-10-18T01:38:17.205971Z",
     "start_time": "2023-10-18T01:38:17.188460Z"
    }
   },
   "outputs": [],
   "source": [
    "motor.disable()\n",
    "motor.set_0_pos()"
   ]
  },
  {
   "cell_type": "markdown",
   "id": "5bc013bd",
   "metadata": {},
   "source": [
    "# 速度模式"
   ]
  },
  {
   "cell_type": "code",
   "execution_count": null,
   "id": "e61aef81",
   "metadata": {
    "ExecuteTime": {
     "end_time": "2023-10-18T09:04:20.048546Z",
     "start_time": "2023-10-18T09:04:20.033541Z"
    }
   },
   "outputs": [],
   "source": [
    "motor.set_run_mode(motor.RunModes.SPEED_MODE)"
   ]
  },
  {
   "cell_type": "code",
   "execution_count": null,
   "id": "489bb6b7",
   "metadata": {
    "ExecuteTime": {
     "end_time": "2023-10-18T09:04:22.239213Z",
     "start_time": "2023-10-18T09:04:22.223212Z"
    }
   },
   "outputs": [],
   "source": [
    "motor.enable()\n",
    "motor.write_single_param(\"spd_ref\", value=0)"
   ]
  },
  {
   "cell_type": "code",
   "execution_count": null,
   "id": "cab3fa45",
   "metadata": {
    "ExecuteTime": {
     "end_time": "2023-10-18T08:42:37.885993Z",
     "start_time": "2023-10-18T08:42:37.864980Z"
    }
   },
   "outputs": [],
   "source": [
    "motor.disable()\n",
    "motor.set_0_pos()"
   ]
  },
  {
   "cell_type": "code",
   "execution_count": null,
   "id": "1fb975b6",
   "metadata": {
    "ExecuteTime": {
     "end_time": "2023-10-18T08:42:29.120003Z",
     "start_time": "2023-10-18T08:42:29.103998Z"
    }
   },
   "outputs": [],
   "source": [
    "motor.write_single_param(\"spd_ref\", value=1)"
   ]
  },
  {
   "cell_type": "code",
   "execution_count": null,
   "id": "d9b4a798",
   "metadata": {
    "ExecuteTime": {
     "end_time": "2023-10-18T09:09:17.086070Z",
     "start_time": "2023-10-18T09:09:07.047149Z"
    }
   },
   "outputs": [],
   "source": [
    "import time\n",
    "start_time = time.time()\n",
    "test_time = 15\n",
    "speed = 2\n",
    "motor.enable()\n",
    "while True:\n",
    "    elapsed_time = time.time() - start_time\n",
    "    if elapsed_time >= 10:\n",
    "        logging.warning(f\"{test_time} seconds have passed. End test\")\n",
    "        motor.set_0_pos()\n",
    "        motor.disable()\n",
    "        break\n",
    "    _, pos, vel, torque_ext = motor.write_single_param(\"spd_ref\", value=speed)\n",
    "    if abs(torque_ext) > 0.2:\n",
    "        speed = -speed\n",
    "        motor.write_single_param(\"spd_ref\", value=speed)\n",
    "        logging.warning(f\"reverse on torque_ext: {torque_ext:.2f}, vel:{vel:.2f}\")\n",
    "    time.sleep(0.01)"
   ]
  },
  {
   "cell_type": "markdown",
   "id": "af3b0683",
   "metadata": {},
   "source": [
    "# 电流模式"
   ]
  },
  {
   "cell_type": "code",
   "execution_count": null,
   "id": "15b3a087",
   "metadata": {
    "ExecuteTime": {
     "end_time": "2023-10-18T03:23:26.899495Z",
     "start_time": "2023-10-18T03:23:26.884491Z"
    }
   },
   "outputs": [],
   "source": [
    "motor.set_run_mode(motor.RunModes.CURRENT_MODE)"
   ]
  },
  {
   "cell_type": "code",
   "execution_count": null,
   "id": "2e8208f3",
   "metadata": {
    "ExecuteTime": {
     "end_time": "2023-10-18T03:26:02.111195Z",
     "start_time": "2023-10-18T03:26:02.093560Z"
    }
   },
   "outputs": [],
   "source": [
    "# iq_ref\n",
    "motor.enable()\n",
    "motor.write_single_param(\"iq_ref\", value=0)"
   ]
  },
  {
   "cell_type": "code",
   "execution_count": null,
   "id": "7059a013",
   "metadata": {
    "ExecuteTime": {
     "end_time": "2023-10-18T03:26:49.538292Z",
     "start_time": "2023-10-18T03:26:49.524291Z"
    }
   },
   "outputs": [],
   "source": [
    "motor.write_single_param(\"iq_ref\", value=0.2)"
   ]
  },
  {
   "cell_type": "code",
   "execution_count": null,
   "id": "2a16cfdc",
   "metadata": {
    "ExecuteTime": {
     "end_time": "2023-10-18T03:26:52.258376Z",
     "start_time": "2023-10-18T03:26:52.239353Z"
    }
   },
   "outputs": [],
   "source": [
    "motor.disable()\n",
    "motor.set_0_pos()"
   ]
  },
  {
   "cell_type": "code",
   "execution_count": null,
   "id": "458eb159",
   "metadata": {},
   "outputs": [],
   "source": []
  }
 ],
 "metadata": {
  "kernelspec": {
   "display_name": "Python 3 (ipykernel)",
   "language": "python",
   "name": "python3"
  },
  "language_info": {
   "codemirror_mode": {
    "name": "ipython",
    "version": 3
   },
   "file_extension": ".py",
   "mimetype": "text/x-python",
   "name": "python",
   "nbconvert_exporter": "python",
   "pygments_lexer": "ipython3",
   "version": "3.9.7"
  }
 },
 "nbformat": 4,
 "nbformat_minor": 5
}
