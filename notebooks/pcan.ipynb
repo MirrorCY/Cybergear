{
 "cells": [
  {
   "cell_type": "markdown",
   "id": "60d186d5",
   "metadata": {},
   "source": [
    "## [安装python-can](https://python-can.readthedocs.io/en/master/installation.html)"
   ]
  },
  {
   "cell_type": "code",
   "execution_count": 54,
   "id": "b3d4c5f5",
   "metadata": {},
   "outputs": [],
   "source": [
    "import struct\n",
    "import can\n",
    "import time"
   ]
  },
  {
   "cell_type": "code",
   "execution_count": 51,
   "id": "70e10a0b",
   "metadata": {},
   "outputs": [],
   "source": [
    "P_MIN = -12.5\n",
    "P_MAX = 12.5\n",
    "V_MIN = -30.0\n",
    "V_MAX = 30.0\n",
    "\n",
    "# 通信类型\n",
    "class CmdModes:\n",
    "    GET_DEVICE_ID = 0\n",
    "    MOTOR_CONTROL = 1\n",
    "    MOTOR_FEEDBACK = 2\n",
    "    MOTOR_ENABLE = 3\n",
    "    MOTOR_STOP = 4\n",
    "    SET_MECHANICAL_ZERO = 6\n",
    "    SET_MOTOR_CAN_ID = 7\n",
    "    SINGLE_PARAM_READ = 17\n",
    "    SINGLE_PARAM_WRITE = 18\n",
    "    FAULT_FEEDBACK = 21\n",
    "\n",
    "\n",
    "def float_to_uint(x, x_min, x_max, bits):\n",
    "    span = x_max - x_min\n",
    "    offset = x_min\n",
    "    if x > x_max:\n",
    "        x = x_max\n",
    "    elif x < x_min:\n",
    "        x = x_min\n",
    "    return int(((x - offset) * ((1 << bits) - 1) / span))\n",
    "\n",
    "\n",
    "def uint_to_float(x, x_min, x_max, bits):\n",
    "    span = (1 << bits) - 1\n",
    "    offset = x_max - x_min\n",
    "    if x > span:\n",
    "        x = span\n",
    "    elif x < 0:\n",
    "        x = 0\n",
    "    return offset * x / span + x_min\n",
    "\n",
    "\n",
    "def format_data(data=[], format=\"f f\", type=\"decode\"):\n",
    "    # print(data)\n",
    "    format_list = format.split()\n",
    "    rdata = []\n",
    "    if type == \"decode\":\n",
    "        p = 0\n",
    "        for f in format_list:\n",
    "            s_f = []\n",
    "            if f == \"f\":\n",
    "                s_f = [4, \"f\"]\n",
    "            elif f == \"u16\":\n",
    "                s_f = [2, \"H\"]\n",
    "            elif f == \"s16\":\n",
    "                s_f = [2, \"h\"]\n",
    "            elif f == \"u32\":\n",
    "                s_f = [4, \"I\"]\n",
    "            elif f == \"s32\":\n",
    "                s_f = [4, \"i\"]\n",
    "            elif f == \"u8\":\n",
    "                s_f = [1, \"B\"]\n",
    "            elif f == \"s8\":\n",
    "                s_f = [1, \"b\"]\n",
    "            ba = bytearray()\n",
    "            if len(s_f) == 2:\n",
    "                for i in range(s_f[0]):\n",
    "                    ba.append(data[p])\n",
    "                    p = p + 1\n",
    "                rdata.append(struct.unpack(s_f[1], ba)[0])\n",
    "            else:\n",
    "                print(\"unkown format in format_data(): \" + f)\n",
    "                return []\n",
    "        return rdata\n",
    "    elif type == \"encode\" and len(format_list) == len(data):\n",
    "        for i in range(len(format_list)):\n",
    "            f = format_list[i]\n",
    "            s_f = []\n",
    "            if f == \"f\":\n",
    "                s_f = [4, \"f\"]\n",
    "            elif f == \"u16\":\n",
    "                s_f = [2, \"H\"]\n",
    "            elif f == \"s16\":\n",
    "                s_f = [2, \"h\"]\n",
    "            elif f == \"u32\":\n",
    "                s_f = [4, \"I\"]\n",
    "            elif f == \"s32\":\n",
    "                s_f = [4, \"i\"]\n",
    "            elif f == \"u8\":\n",
    "                s_f = [1, \"B\"]\n",
    "            elif f == \"s8\":\n",
    "                s_f = [1, \"b\"]\n",
    "            if f != \"f\":\n",
    "                data[i] = int(data[i])\n",
    "            if len(s_f) == 2:\n",
    "                bs = struct.pack(s_f[1], data[i])\n",
    "                for j in range(s_f[0]):\n",
    "                    rdata.append(bs[j])\n",
    "            else:\n",
    "                print(\"unkown format in format_data(): \" + f)\n",
    "                return []\n",
    "        if len(rdata) < 4:\n",
    "            for i in range(4 - len(rdata)):\n",
    "                rdata.append(0x00)\n",
    "        return rdata"
   ]
  },
  {
   "cell_type": "code",
   "execution_count": 84,
   "id": "06750ed7",
   "metadata": {},
   "outputs": [],
   "source": [
    "# 发生并接收一帧 CAN 信息\n",
    "def send_receive_can_message(bus, cmd_mode, data2, motor_can_id, data1, timeout=0.2):\n",
    "    \"\"\"\n",
    "    Send a CAN message and receive a response.\n",
    "\n",
    "    Parameters:\n",
    "    - bus: Initialized CAN bus object\n",
    "    - cmd_mode: Command mode (bit28~bit24)\n",
    "    - data2: Data area 2 (bit23~bit8)\n",
    "    - motor_can_id: Motor target address (bit7~bit0)\n",
    "    - data1: Data bytes to send\n",
    "    - timeout: Timeout for sending the message (default is 0.2 seconds)\n",
    "\n",
    "    Returns:\n",
    "    A tuple containing the sent message and the received message, if any.\n",
    "    \"\"\"\n",
    "    # Calculate the arbitration ID\n",
    "    arbitration_id = (cmd_mode << 24) | (data2 << 8) | motor_can_id\n",
    "\n",
    "    # Create CAN message\n",
    "    message = can.Message(\n",
    "        arbitration_id=arbitration_id, data=data1, is_extended_id=True,\n",
    "    )\n",
    "\n",
    "    # Send the CAN message\n",
    "    try:\n",
    "        bus.send(message, timeout=timeout)\n",
    "    except can.CanError:\n",
    "        print(\"Failed to send the message.\")\n",
    "        return None, None\n",
    "\n",
    "    # Output details of the sent message\n",
    "    print(f\"Sent message with ID {hex(message.arbitration_id)}, data: 0x{(message.data.hex())}\")\n",
    "\n",
    "    # Receive a CAN message with a 1-second timeout\n",
    "    received_msg = bus.recv(1.0)\n",
    "    return message, received_msg\n",
    "\n",
    "\n",
    "# 清空CAN接收缓存，避免读到老数据\n",
    "def clear_can_rx(timeout=1):\n",
    "    # Clear the receiver buffer by reading all existing messages\n",
    "    start_time = time.time()\n",
    "    timeout = timeout  # seconds\n",
    "    while time.time() - start_time < timeout:\n",
    "        recv_msg = bus.recv(0)\n",
    "        if recv_msg is not None:\n",
    "            print(\n",
    "                f\"Cleared message with ID {hex(recv_msg.arbitration_id)}\"\n",
    "            )"
   ]
  },
  {
   "cell_type": "code",
   "execution_count": 3,
   "id": "c5df786a",
   "metadata": {},
   "outputs": [
    {
     "name": "stderr",
     "output_type": "stream",
     "text": [
      "uptime library not available, timestamps are relative to boot time and not to Epoch UTC\n"
     ]
    }
   ],
   "source": [
    "# Connect to the CAN bus with 1 Mbit/s bitrate\n",
    "bus = can.interface.Bus(bustype=\"pcan\", channel=\"PCAN_USBBUS1\", bitrate=1000000)"
   ]
  },
  {
   "cell_type": "code",
   "execution_count": 106,
   "id": "745309ee",
   "metadata": {},
   "outputs": [
    {
     "name": "stdout",
     "output_type": "stream",
     "text": [
      "Cleared message with ID 0x7ffe\n",
      "Cleared message with ID 0x2007ffe\n",
      "Cleared message with ID 0x2007ffe\n",
      "Cleared message with ID 0x2007ffe\n"
     ]
    }
   ],
   "source": [
    "clear_can_rx() # 空CAN接收缓存，避免读到老数据"
   ]
  },
  {
   "cell_type": "code",
   "execution_count": 41,
   "id": "5da3cee8",
   "metadata": {},
   "outputs": [],
   "source": [
    "MAIN_CAN_ID = 254 # 电脑上位机（主机） CAN ID\n",
    "MOTOR_ID = 127 # 电机（从机） CAN ID"
   ]
  },
  {
   "cell_type": "markdown",
   "id": "d2190e92",
   "metadata": {},
   "source": [
    "## Jog"
   ]
  },
  {
   "cell_type": "code",
   "execution_count": 102,
   "id": "ea6e1a93",
   "metadata": {},
   "outputs": [
    {
     "name": "stdout",
     "output_type": "stream",
     "text": [
      "Sent message with ID 0x1200fe7f, data: 0x0570000007016eee\n"
     ]
    }
   ],
   "source": [
    "jog_vel = -4  # rad/s\n",
    "uint_value = float_to_uint(jog_vel, V_MIN, V_MAX, 16)\n",
    "jog_vel_bytes = format_data(data=[uint_value], format=\"u16\", type=\"encode\")[:2][::-1]\n",
    "\n",
    "data1 = [0x05, 0x70, 0x00, 0x00, 0x07, 0x01] + jog_vel_bytes\n",
    "sent_msg, received_msg = send_receive_can_message(\n",
    "    bus=bus, cmd_mode=CmdModes.SINGLE_PARAM_WRITE, data2=MAIN_CAN_ID, motor_can_id=MOTOR_ID, data1=data1\n",
    ")"
   ]
  },
  {
   "cell_type": "markdown",
   "id": "b977c4b0",
   "metadata": {},
   "source": [
    "## 停止"
   ]
  },
  {
   "cell_type": "code",
   "execution_count": 105,
   "id": "c715f555",
   "metadata": {},
   "outputs": [
    {
     "name": "stdout",
     "output_type": "stream",
     "text": [
      "Sent message with ID 0x1200fe7f, data: 0x0570000007007fff\n"
     ]
    }
   ],
   "source": [
    "data1 = [0x05, 0x70, 0x00, 0x00, 0x07, 0x00, 0x7F, 0xFF]\n",
    "sent_msg, received_msg = send_receive_can_message(\n",
    "    bus=bus, cmd_mode=CmdModes.SINGLE_PARAM_WRITE, data2=MAIN_CAN_ID, motor_can_id=MOTOR_ID, data1=data1\n",
    ")"
   ]
  },
  {
   "cell_type": "markdown",
   "id": "e4ef7cca",
   "metadata": {},
   "source": [
    "## 读取速度和位置\n",
    "- 发送参数：单个参数写⼊（通信类型18），写入地址0x7018（电流限制）值为 27A\n",
    "- 读取返回值：电机反馈数据（通信类型2），Byte0,1: 当前⻆度，Byte2,3:当前⻆速度"
   ]
  },
  {
   "cell_type": "code",
   "execution_count": 111,
   "id": "6b886ca3",
   "metadata": {},
   "outputs": [
    {
     "name": "stdout",
     "output_type": "stream",
     "text": [
      "Sent message with ID 0x1200fe7f, data: 0x187000000000d841\n",
      "Received message with ID 0x2007ffe: 72c27fec7fff015a\n",
      "pos:-1.29 rad, vel:-0.02 rad/s\n"
     ]
    }
   ],
   "source": [
    "address = 0x7018\n",
    "current_limit = 27\n",
    "\n",
    "encoded_data = format_data(data=[current_limit], format=\"f\", type=\"encode\")\n",
    "\n",
    "data_bytes = struct.pack(\"<I\", address) + bytes(encoded_data)\n",
    "\n",
    "sent_msg, received_msg = send_receive_can_message(\n",
    "    bus=bus,\n",
    "    cmd_mode=CmdModes.SINGLE_PARAM_WRITE,\n",
    "    data2=MAIN_CAN_ID,\n",
    "    motor_can_id=MOTOR_ID,\n",
    "    data1=data_bytes,\n",
    ")\n",
    "if received_msg is not None:\n",
    "    print(\n",
    "        f\"Received message with ID {hex(received_msg.arbitration_id)}: {received_msg.data.hex()}\"\n",
    "    )\n",
    "    pos = uint_to_float(\n",
    "        (received_msg.data[0] << 8) + received_msg.data[1], P_MIN, P_MAX, 16\n",
    "    )  # * RAD_DEG\n",
    "    vel = uint_to_float(\n",
    "        (received_msg.data[2] << 8) + received_msg.data[3], V_MIN, V_MAX, 16\n",
    "    )  # * RAD_S_R_MIN\n",
    "    print(f\"pos:{pos:.2f} rad, vel:{vel:.2f} rad/s\")\n",
    "else:\n",
    "    print(\"No message received within the timeout period.\")"
   ]
  },
  {
   "cell_type": "code",
   "execution_count": null,
   "id": "db5aa13b",
   "metadata": {},
   "outputs": [],
   "source": []
  }
 ],
 "metadata": {
  "kernelspec": {
   "display_name": "Python 3 (ipykernel)",
   "language": "python",
   "name": "python3"
  },
  "language_info": {
   "codemirror_mode": {
    "name": "ipython",
    "version": 3
   },
   "file_extension": ".py",
   "mimetype": "text/x-python",
   "name": "python",
   "nbconvert_exporter": "python",
   "pygments_lexer": "ipython3",
   "version": "3.9.7"
  }
 },
 "nbformat": 4,
 "nbformat_minor": 5
}
