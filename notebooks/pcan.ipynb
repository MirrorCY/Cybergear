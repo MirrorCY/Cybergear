{
 "cells": [
  {
   "cell_type": "markdown",
   "id": "60d186d5",
   "metadata": {},
   "source": [
    "## [安装python-can](https://python-can.readthedocs.io/en/master/installation.html)"
   ]
  },
  {
   "cell_type": "code",
   "execution_count": 1,
   "id": "b3d4c5f5",
   "metadata": {},
   "outputs": [],
   "source": [
    "import struct\n",
    "import can\n",
    "import time"
   ]
  },
  {
   "cell_type": "code",
   "execution_count": 2,
   "id": "70e10a0b",
   "metadata": {},
   "outputs": [],
   "source": [
    "MAIN_CAN_ID = 254 # 电脑上位机（主机） CAN ID\n",
    "MOTOR_ID = 127 # 电机（从机） CAN ID\n",
    "\n",
    "P_MIN = -12.5\n",
    "P_MAX = 12.5\n",
    "V_MIN = -30.0\n",
    "V_MAX = 30.0\n",
    "\n",
    "# 通信类型\n",
    "class CmdModes:\n",
    "    GET_DEVICE_ID = 0\n",
    "    MOTOR_CONTROL = 1\n",
    "    MOTOR_FEEDBACK = 2\n",
    "    MOTOR_ENABLE = 3\n",
    "    MOTOR_STOP = 4\n",
    "    SET_MECHANICAL_ZERO = 6\n",
    "    SET_MOTOR_CAN_ID = 7\n",
    "    SINGLE_PARAM_READ = 17\n",
    "    SINGLE_PARAM_WRITE = 18\n",
    "    FAULT_FEEDBACK = 21\n",
    "\n",
    "\n",
    "def float_to_uint(x, x_min, x_max, bits):\n",
    "    span = x_max - x_min\n",
    "    offset = x_min\n",
    "    if x > x_max:\n",
    "        x = x_max\n",
    "    elif x < x_min:\n",
    "        x = x_min\n",
    "    return int(((x - offset) * ((1 << bits) - 1) / span))\n",
    "\n",
    "\n",
    "def uint_to_float(x, x_min, x_max, bits):\n",
    "    span = (1 << bits) - 1\n",
    "    offset = x_max - x_min\n",
    "    if x > span:\n",
    "        x = span\n",
    "    elif x < 0:\n",
    "        x = 0\n",
    "    return offset * x / span + x_min\n",
    "\n",
    "\n",
    "def format_data(data=[], format=\"f f\", type=\"decode\"):\n",
    "    # print(data)\n",
    "    format_list = format.split()\n",
    "    rdata = []\n",
    "    if type == \"decode\":\n",
    "        p = 0\n",
    "        for f in format_list:\n",
    "            s_f = []\n",
    "            if f == \"f\":\n",
    "                s_f = [4, \"f\"]\n",
    "            elif f == \"u16\":\n",
    "                s_f = [2, \"H\"]\n",
    "            elif f == \"s16\":\n",
    "                s_f = [2, \"h\"]\n",
    "            elif f == \"u32\":\n",
    "                s_f = [4, \"I\"]\n",
    "            elif f == \"s32\":\n",
    "                s_f = [4, \"i\"]\n",
    "            elif f == \"u8\":\n",
    "                s_f = [1, \"B\"]\n",
    "            elif f == \"s8\":\n",
    "                s_f = [1, \"b\"]\n",
    "            ba = bytearray()\n",
    "            if len(s_f) == 2:\n",
    "                for i in range(s_f[0]):\n",
    "                    ba.append(data[p])\n",
    "                    p = p + 1\n",
    "                rdata.append(struct.unpack(s_f[1], ba)[0])\n",
    "            else:\n",
    "                print(\"unkown format in format_data(): \" + f)\n",
    "                return []\n",
    "        return rdata\n",
    "    elif type == \"encode\" and len(format_list) == len(data):\n",
    "        for i in range(len(format_list)):\n",
    "            f = format_list[i]\n",
    "            s_f = []\n",
    "            if f == \"f\":\n",
    "                s_f = [4, \"f\"]\n",
    "            elif f == \"u16\":\n",
    "                s_f = [2, \"H\"]\n",
    "            elif f == \"s16\":\n",
    "                s_f = [2, \"h\"]\n",
    "            elif f == \"u32\":\n",
    "                s_f = [4, \"I\"]\n",
    "            elif f == \"s32\":\n",
    "                s_f = [4, \"i\"]\n",
    "            elif f == \"u8\":\n",
    "                s_f = [1, \"B\"]\n",
    "            elif f == \"s8\":\n",
    "                s_f = [1, \"b\"]\n",
    "            if f != \"f\":\n",
    "                data[i] = int(data[i])\n",
    "            if len(s_f) == 2:\n",
    "                bs = struct.pack(s_f[1], data[i])\n",
    "                for j in range(s_f[0]):\n",
    "                    rdata.append(bs[j])\n",
    "            else:\n",
    "                print(\"unkown format in format_data(): \" + f)\n",
    "                return []\n",
    "        if len(rdata) < 4:\n",
    "            for i in range(4 - len(rdata)):\n",
    "                rdata.append(0x00)\n",
    "        return rdata"
   ]
  },
  {
   "cell_type": "code",
   "execution_count": 3,
   "id": "86b86235",
   "metadata": {},
   "outputs": [],
   "source": [
    "# 发生并接收一帧 CAN 信息\n",
    "def send_receive_can_message(bus, cmd_mode, data2, motor_can_id, data1, timeout=0.2):\n",
    "    \"\"\"\n",
    "    Send a CAN message and receive a response.\n",
    "\n",
    "    Parameters:\n",
    "    - bus: Initialized CAN bus object\n",
    "    - cmd_mode: Command mode (bit28~bit24)\n",
    "    - data2: Data area 2 (bit23~bit8)\n",
    "    - motor_can_id: Motor target address (bit7~bit0)\n",
    "    - data1: Data bytes to send\n",
    "    - timeout: Timeout for sending the message (default is 0.2 seconds)\n",
    "\n",
    "    Returns:\n",
    "    A tuple containing the sent message and the received message, if any.\n",
    "    \"\"\"\n",
    "    # Calculate the arbitration ID\n",
    "    arbitration_id = (cmd_mode << 24) | (data2 << 8) | motor_can_id\n",
    "\n",
    "    # Create CAN message\n",
    "    message = can.Message(\n",
    "        arbitration_id=arbitration_id, data=data1, is_extended_id=True,\n",
    "    )\n",
    "\n",
    "    # Send the CAN message\n",
    "    try:\n",
    "        bus.send(message, timeout=timeout)\n",
    "    except can.CanError:\n",
    "        print(\"Failed to send the message.\")\n",
    "        return None, None\n",
    "\n",
    "    # Output details of the sent message\n",
    "    print(f\"Sent message with ID {hex(message.arbitration_id)}, data: 0x{(message.data.hex())}\")\n",
    "\n",
    "    # Receive a CAN message with a 1-second timeout\n",
    "    received_msg = bus.recv(1.0)\n",
    "    return message, received_msg\n",
    "\n",
    "def parse_received_msg(received_msg):\n",
    "    if received_msg is not None:\n",
    "        print(\n",
    "            f\"Received message with ID {hex(received_msg.arbitration_id)}: {received_msg.data.hex()}\"\n",
    "        )\n",
    "        pos = uint_to_float(\n",
    "            (received_msg.data[0] << 8) + received_msg.data[1], P_MIN, P_MAX, 16\n",
    "        )  # * RAD_DEG\n",
    "        vel = uint_to_float(\n",
    "            (received_msg.data[2] << 8) + received_msg.data[3], V_MIN, V_MAX, 16\n",
    "        )  # * RAD_S_R_MIN\n",
    "        print(f\"pos:{pos:.2f} rad, vel:{vel:.2f} rad/s\")\n",
    "        return pos, vel\n",
    "    else:\n",
    "        print(\"No message received within the timeout period.\")\n",
    "        return None, None\n",
    "    \n",
    "# 清空CAN接收缓存，避免读到老数据\n",
    "def clear_can_rx(timeout=0.1):\n",
    "    # Clear the receiver buffer by reading all existing messages\n",
    "    start_time = time.time()\n",
    "    timeout = timeout  # seconds\n",
    "    while time.time() - start_time < timeout:\n",
    "        recv_msg = bus.recv(0)\n",
    "        if recv_msg is not None:\n",
    "            print(\n",
    "                f\"Cleared message with ID {hex(recv_msg.arbitration_id)}\"\n",
    "            )"
   ]
  },
  {
   "cell_type": "code",
   "execution_count": 4,
   "id": "c5df786a",
   "metadata": {},
   "outputs": [],
   "source": [
    "# Connect to the CAN bus with 1 Mbit/s bitrate\n",
    "bus = can.interface.Bus(bustype=\"pcan\", channel=\"PCAN_USBBUS1\", bitrate=1000000)"
   ]
  },
  {
   "cell_type": "markdown",
   "id": "d2190e92",
   "metadata": {},
   "source": [
    "## Jog\n",
    "单个参数写入（通信类型 18）"
   ]
  },
  {
   "cell_type": "code",
   "execution_count": 5,
   "id": "6bee4145",
   "metadata": {},
   "outputs": [
    {
     "name": "stdout",
     "output_type": "stream",
     "text": [
      "Sent message with ID 0x1200fe7f, data: 0x0570000007019554\n",
      "Received message with ID 0x2807ffe: ffff7ffb7fff0196\n",
      "pos:12.50 rad, vel:-0.00 rad/s\n"
     ]
    },
    {
     "data": {
      "text/plain": [
       "(12.5, -0.004119935912108019)"
      ]
     },
     "execution_count": 5,
     "metadata": {},
     "output_type": "execute_result"
    }
   ],
   "source": [
    "jog_vel = 5  # rad/s\n",
    "uint_value = float_to_uint(jog_vel, V_MIN, V_MAX, 16)\n",
    "jog_vel_bytes = format_data(data=[uint_value], format=\"u16\", type=\"encode\")[:2][::-1]\n",
    "\n",
    "data1 = [0x05, 0x70, 0x00, 0x00, 0x07, 0x01] + jog_vel_bytes\n",
    "clear_can_rx()\n",
    "sent_msg, received_msg = send_receive_can_message(\n",
    "    bus=bus, cmd_mode=CmdModes.SINGLE_PARAM_WRITE, data2=MAIN_CAN_ID, motor_can_id=MOTOR_ID, data1=data1\n",
    ")\n",
    "parse_received_msg(received_msg)"
   ]
  },
  {
   "cell_type": "markdown",
   "id": "b977c4b0",
   "metadata": {},
   "source": [
    "## 停止\n",
    "单个参数写入（通信类型 18）"
   ]
  },
  {
   "cell_type": "code",
   "execution_count": 6,
   "id": "1569b54b",
   "metadata": {},
   "outputs": [
    {
     "name": "stdout",
     "output_type": "stream",
     "text": [
      "Sent message with ID 0x1200fe7f, data: 0x0570000007007fff\n",
      "Received message with ID 0x2007ffe: ffff953c7fff0196\n",
      "pos:12.50 rad, vel:4.98 rad/s\n"
     ]
    },
    {
     "data": {
      "text/plain": [
       "(12.5, 4.977340352483402)"
      ]
     },
     "execution_count": 6,
     "metadata": {},
     "output_type": "execute_result"
    }
   ],
   "source": [
    "data1 = [0x05, 0x70, 0x00, 0x00, 0x07, 0x00, 0x7F, 0xFF]\n",
    "clear_can_rx()\n",
    "sent_msg, received_msg = send_receive_can_message(\n",
    "    bus=bus, cmd_mode=CmdModes.SINGLE_PARAM_WRITE, data2=MAIN_CAN_ID, motor_can_id=MOTOR_ID, data1=data1\n",
    ")\n",
    "parse_received_msg(received_msg)"
   ]
  },
  {
   "cell_type": "markdown",
   "id": "fc9f194d",
   "metadata": {},
   "source": [
    "## 发送电机模式参数写入命令（通信类型 18）"
   ]
  },
  {
   "cell_type": "code",
   "execution_count": 7,
   "id": "5884c563",
   "metadata": {},
   "outputs": [],
   "source": [
    "def write_single_param(index, value, format=\"u32\"):\n",
    "    encoded_data = format_data(data=[value], format=format, type=\"encode\")\n",
    "    data_bytes = struct.pack(\"<I\", index) + bytes(encoded_data)\n",
    "\n",
    "    clear_can_rx()  # 空CAN接收缓存，避免读到老数据\n",
    "\n",
    "    sent_msg, received_msg = send_receive_can_message(\n",
    "        bus=bus,\n",
    "        cmd_mode=CmdModes.SINGLE_PARAM_WRITE,\n",
    "        data2=MAIN_CAN_ID,\n",
    "        motor_can_id=MOTOR_ID,\n",
    "        data1=data_bytes,\n",
    "    )\n",
    "    parse_received_msg(received_msg)\n",
    "    return received_msg"
   ]
  },
  {
   "cell_type": "markdown",
   "id": "e505b3c3",
   "metadata": {},
   "source": [
    "## 设置电机机械零位（通信类型6）\n",
    "会把当前电机位置设为机械零位"
   ]
  },
  {
   "cell_type": "code",
   "execution_count": 9,
   "id": "070f0a20",
   "metadata": {},
   "outputs": [],
   "source": [
    "def set_0_pos():\n",
    "    clear_can_rx() # 空CAN接收缓存，避免读到老数据\n",
    "\n",
    "    sent_msg, received_msg = send_receive_can_message(\n",
    "        bus=bus,\n",
    "        cmd_mode=CmdModes.SET_MECHANICAL_ZERO,\n",
    "        data2=MAIN_CAN_ID,\n",
    "        motor_can_id=MOTOR_ID,\n",
    "        data1=[1],\n",
    "    )\n",
    "    parse_received_msg(received_msg)"
   ]
  },
  {
   "cell_type": "markdown",
   "id": "b4081143",
   "metadata": {},
   "source": [
    "## 电机使能运行 （通信类型 3）"
   ]
  },
  {
   "cell_type": "code",
   "execution_count": 13,
   "id": "790b79d2",
   "metadata": {},
   "outputs": [],
   "source": [
    "def enable():\n",
    "    clear_can_rx(0) # 空CAN接收缓存，避免读到老数据\n",
    "\n",
    "    sent_msg, received_msg = send_receive_can_message(\n",
    "        bus=bus,\n",
    "        cmd_mode=CmdModes.MOTOR_ENABLE,\n",
    "        data2=MAIN_CAN_ID,\n",
    "        motor_can_id=MOTOR_ID,\n",
    "        data1=[],\n",
    "    )\n",
    "    parse_received_msg(received_msg)"
   ]
  },
  {
   "cell_type": "markdown",
   "id": "2e0e59ba",
   "metadata": {},
   "source": [
    "## 电机停止运行 （通信类型 4）"
   ]
  },
  {
   "cell_type": "code",
   "execution_count": 15,
   "id": "432bdbe5",
   "metadata": {},
   "outputs": [],
   "source": [
    "def disable():\n",
    "    clear_can_rx(0)  # 空CAN接收缓存，避免读到老数据\n",
    "\n",
    "    sent_msg, received_msg = send_receive_can_message(\n",
    "        bus=bus,\n",
    "        cmd_mode=CmdModes.MOTOR_STOP,\n",
    "        data2=MAIN_CAN_ID,\n",
    "        motor_can_id=MOTOR_ID,\n",
    "        data1=[0, 0, 0, 0, 0, 0, 0, 0],\n",
    "    )\n",
    "    parse_received_msg(received_msg)"
   ]
  },
  {
   "cell_type": "markdown",
   "id": "e4ef7cca",
   "metadata": {},
   "source": [
    "## 读取速度和位置\n",
    "- 发送参数：单个参数写⼊（通信类型18），写入地址0x7018（电流限制）值为 27A\n",
    "- 读取返回值：电机反馈数据（通信类型2），Byte0,1: 当前⻆度，Byte2,3:当前⻆速度"
   ]
  },
  {
   "cell_type": "code",
   "execution_count": 8,
   "id": "80df3964",
   "metadata": {},
   "outputs": [
    {
     "name": "stdout",
     "output_type": "stream",
     "text": [
      "Sent message with ID 0x1200fe7f, data: 0x187000000000d841\n",
      "Received message with ID 0x2007ffe: ffff80417fff0196\n",
      "pos:12.50 rad, vel:0.06 rad/s\n"
     ]
    },
    {
     "data": {
      "text/plain": [
       "can.Message(timestamp=1694338120.242703, arbitration_id=0x2007ffe, is_extended_id=True, dlc=8, data=[0xff, 0xff, 0x80, 0x41, 0x7f, 0xff, 0x1, 0x96])"
      ]
     },
     "execution_count": 8,
     "metadata": {},
     "output_type": "execute_result"
    }
   ],
   "source": [
    "write_single_param(index=0x7018, value=27, format='f')"
   ]
  },
  {
   "cell_type": "markdown",
   "id": "fcc5b4b0",
   "metadata": {},
   "source": [
    "# 位置模式\n",
    "## 发送电机模式参数写入命令（通信类型 18）\n",
    "设置 `runmode` 参数为 1\n",
    "- index(Byte0~1): `run_mode`，0x7005\n",
    "- value(Byte4~7): 1(位置模式)"
   ]
  },
  {
   "cell_type": "code",
   "execution_count": 11,
   "id": "c7f25555",
   "metadata": {},
   "outputs": [
    {
     "name": "stdout",
     "output_type": "stream",
     "text": [
      "Sent message with ID 0x1200fe7f, data: 0x0570000001000000\n",
      "Received message with ID 0x2007ffe: 7fff80317fff0196\n",
      "pos:-0.00 rad, vel:0.05 rad/s\n"
     ]
    },
    {
     "data": {
      "text/plain": [
       "can.Message(timestamp=1694338122.771685, arbitration_id=0x2007ffe, is_extended_id=True, dlc=8, data=[0x7f, 0xff, 0x80, 0x31, 0x7f, 0xff, 0x1, 0x96])"
      ]
     },
     "execution_count": 11,
     "metadata": {},
     "output_type": "execute_result"
    }
   ],
   "source": [
    "write_single_param(index=0x7005, value=1, format='u32')"
   ]
  },
  {
   "cell_type": "code",
   "execution_count": 14,
   "id": "e770c62e",
   "metadata": {
    "scrolled": true
   },
   "outputs": [
    {
     "name": "stdout",
     "output_type": "stream",
     "text": [
      "Sent message with ID 0x300fe7f, data: 0x\n",
      "Received message with ID 0x2807ffe: 7fff80017fff0196\n",
      "pos:-0.00 rad, vel:0.00 rad/s\n"
     ]
    }
   ],
   "source": [
    "enable()"
   ]
  },
  {
   "cell_type": "markdown",
   "id": "4eb939c7",
   "metadata": {},
   "source": [
    "## 最大速度：发送电机模式参数写入命令（通信类型 18）\n",
    "设置 `limit_spd` 参数为预设最大速度指令\n",
    "- index(Byte0~1): `limit_spd`, 0x7017\n",
    "- value(Byte4~7): `float` [0,30]rad/s"
   ]
  },
  {
   "cell_type": "code",
   "execution_count": 16,
   "id": "9ca4ebd2",
   "metadata": {},
   "outputs": [
    {
     "name": "stdout",
     "output_type": "stream",
     "text": [
      "Sent message with ID 0x1200fe7f, data: 0x1770000000002041\n",
      "Received message with ID 0x2807ffe: 7fff801f80220196\n",
      "pos:-0.00 rad, vel:0.03 rad/s\n"
     ]
    },
    {
     "data": {
      "text/plain": [
       "can.Message(timestamp=1694338138.7050588, arbitration_id=0x2807ffe, is_extended_id=True, dlc=8, data=[0x7f, 0xff, 0x80, 0x1f, 0x80, 0x22, 0x1, 0x96])"
      ]
     },
     "execution_count": 16,
     "metadata": {},
     "output_type": "execute_result"
    }
   ],
   "source": [
    "write_single_param(index=0x7017, value=10, format='f')"
   ]
  },
  {
   "cell_type": "markdown",
   "id": "869b752e",
   "metadata": {},
   "source": [
    "## 目标位置：发送电机模式参数写入命令（通信类型 18）\n",
    "设置 `loc_ref` 参数为预设位置指令\n",
    "- index(Byte0~1): `loc_ref`, 0x7016\n",
    "- value(Byte4~7): `float` rad"
   ]
  },
  {
   "cell_type": "code",
   "execution_count": 17,
   "id": "d85960d1",
   "metadata": {},
   "outputs": [
    {
     "name": "stdout",
     "output_type": "stream",
     "text": [
      "Sent message with ID 0x1200fe7f, data: 0x1670000000000000\n",
      "Received message with ID 0x2807ffe: 7ffe7fbf7f340196\n",
      "pos:-0.00 rad, vel:-0.06 rad/s\n"
     ]
    },
    {
     "data": {
      "text/plain": [
       "can.Message(timestamp=1694338140.200372, arbitration_id=0x2807ffe, is_extended_id=True, dlc=8, data=[0x7f, 0xfe, 0x7f, 0xbf, 0x7f, 0x34, 0x1, 0x96])"
      ]
     },
     "execution_count": 17,
     "metadata": {},
     "output_type": "execute_result"
    }
   ],
   "source": [
    "write_single_param(index=0x7016, value=0, format='f')"
   ]
  },
  {
   "cell_type": "code",
   "execution_count": 18,
   "id": "56ea3e3f",
   "metadata": {},
   "outputs": [],
   "source": [
    "def set_motor_position_control(limit_spd, loc_ref):\n",
    "    # 设置电机最大速度\n",
    "    write_single_param(index=0x7017, value=limit_spd, format=\"f\")\n",
    "    # 设置电机目标位置\n",
    "    write_single_param(index=0x7016, value=loc_ref, format=\"f\")"
   ]
  },
  {
   "cell_type": "code",
   "execution_count": 21,
   "id": "0dd8bb29",
   "metadata": {},
   "outputs": [
    {
     "name": "stdout",
     "output_type": "stream",
     "text": [
      "Sent message with ID 0x400fe7f, data: 0x0000000000000000\n",
      "Received message with ID 0x2007ffe: ffff800b7fff0189\n",
      "pos:12.50 rad, vel:0.01 rad/s\n",
      "Sent message with ID 0x1200fe7f, data: 0x1770000000002041\n",
      "Received message with ID 0x2007ffe: ffff7ffe7fff0189\n",
      "pos:12.50 rad, vel:-0.00 rad/s\n",
      "Sent message with ID 0x1200fe7f, data: 0x1670000000000000\n",
      "Received message with ID 0x2007ffe: ffff80007fff0189\n",
      "pos:12.50 rad, vel:0.00 rad/s\n",
      "Sent message with ID 0x600fe7f, data: 0x01\n",
      "Received message with ID 0x2007ffe: 7fff7f227fff0189\n",
      "pos:-0.00 rad, vel:-0.20 rad/s\n",
      "Sent message with ID 0x300fe7f, data: 0x\n",
      "Received message with ID 0x2807ffe: 7ffe7fb27fff0189\n",
      "pos:-0.00 rad, vel:-0.07 rad/s\n",
      "Sent message with ID 0x1200fe7f, data: 0x1770000066661e41\n",
      "Received message with ID 0x2807ffe: 7ffd80267fff0189\n",
      "pos:-0.00 rad, vel:0.04 rad/s\n",
      "Sent message with ID 0x1200fe7f, data: 0x167000007b14be40\n",
      "Received message with ID 0x2807ffe: 7ffc80547fff0189\n",
      "pos:-0.00 rad, vel:0.08 rad/s\n",
      "Sent message with ID 0x1200fe7f, data: 0x1770000066661e41\n",
      "Received message with ID 0x2807ffe: bceb7e677fff0189\n",
      "pos:5.95 rad, vel:-0.37 rad/s\n",
      "Sent message with ID 0x1200fe7f, data: 0x167000007b143e41\n",
      "Received message with ID 0x2807ffe: bcdc80377fff0189\n",
      "pos:5.94 rad, vel:0.05 rad/s\n",
      "Sent message with ID 0x1200fe7f, data: 0x1770000000005841\n",
      "Received message with ID 0x2807ffe: f9c67df97fff0189\n",
      "pos:11.89 rad, vel:-0.47 rad/s\n",
      "Sent message with ID 0x1200fe7f, data: 0x167000000ad79f41\n",
      "Received message with ID 0x2807ffe: f9a87fef7fff0189\n",
      "pos:11.88 rad, vel:-0.02 rad/s\n",
      "Sent message with ID 0x1200fe7f, data: 0x1770000000005841\n",
      "Received message with ID 0x2807ffe: ffff7dc37fff0189\n",
      "pos:12.50 rad, vel:-0.52 rad/s\n",
      "Sent message with ID 0x1200fe7f, data: 0x16700000d7a3e041\n",
      "Received message with ID 0x2807ffe: ffff800f7fff0189\n",
      "pos:12.50 rad, vel:0.01 rad/s\n",
      "Sent message with ID 0x1200fe7f, data: 0x1770000000007041\n",
      "Received message with ID 0x2807ffe: ffff7d7e7fff0189\n",
      "pos:12.50 rad, vel:-0.59 rad/s\n",
      "Sent message with ID 0x1200fe7f, data: 0x16700000ec511442\n",
      "Received message with ID 0x2807ffe: ffff7fe97fff0189\n",
      "pos:12.50 rad, vel:-0.02 rad/s\n",
      "Sent message with ID 0x1200fe7f, data: 0x1770000000007041\n",
      "Received message with ID 0x2807ffe: ffff7d737f800189\n",
      "pos:12.50 rad, vel:-0.60 rad/s\n",
      "Sent message with ID 0x1200fe7f, data: 0x16700000ec513842\n",
      "Received message with ID 0x2807ffe: ffff802c7f640189\n",
      "pos:12.50 rad, vel:0.04 rad/s\n",
      "Sent message with ID 0x1200fe7f, data: 0x1770000000005841\n",
      "Received message with ID 0x2807ffe: ffff7caa7fc40189\n",
      "pos:12.50 rad, vel:-0.78 rad/s\n",
      "Sent message with ID 0x1200fe7f, data: 0x16700000b81e7942\n",
      "Received message with ID 0x2807ffe: ffff80247fff0189\n",
      "pos:12.50 rad, vel:0.03 rad/s\n",
      "Sent message with ID 0x1200fe7f, data: 0x1770000000004041\n",
      "Received message with ID 0x2807ffe: ffff7d1d7fff0182\n",
      "pos:12.50 rad, vel:-0.68 rad/s\n",
      "Sent message with ID 0x1200fe7f, data: 0x16700000c3f58a42\n",
      "Received message with ID 0x2807ffe: ffff7fd57ffc0182\n",
      "pos:12.50 rad, vel:-0.04 rad/s\n",
      "Sent message with ID 0x1200fe7f, data: 0x1770000000004041\n",
      "Received message with ID 0x2807ffe: ffff7d3b80960182\n",
      "pos:12.50 rad, vel:-0.65 rad/s\n",
      "Sent message with ID 0x1200fe7f, data: 0x16700000295c9942\n",
      "Received message with ID 0x2807ffe: ffff800e7fff0182\n",
      "pos:12.50 rad, vel:0.01 rad/s\n",
      "Sent message with ID 0x1200fe7f, data: 0x1770000033332f41\n",
      "Received message with ID 0x2807ffe: ffff7dca7fff0182\n",
      "pos:12.50 rad, vel:-0.52 rad/s\n",
      "Sent message with ID 0x1200fe7f, data: 0x167000000080a642\n",
      "Received message with ID 0x2807ffe: ffff7fb47f8d0182\n",
      "pos:12.50 rad, vel:-0.07 rad/s\n",
      "Sent message with ID 0x1200fe7f, data: 0x1770000033332f41\n",
      "Received message with ID 0x2807ffe: ffff7d807fff0182\n",
      "pos:12.50 rad, vel:-0.59 rad/s\n",
      "Sent message with ID 0x1200fe7f, data: 0x16700000d7a3b342\n",
      "Received message with ID 0x2807ffe: ffff80097fc20182\n",
      "pos:12.50 rad, vel:0.01 rad/s\n",
      "Sent message with ID 0x1200fe7f, data: 0x1770000033332341\n",
      "Received message with ID 0x2807ffe: ffff7db87fc90182\n",
      "pos:12.50 rad, vel:-0.53 rad/s\n",
      "Sent message with ID 0x1200fe7f, data: 0x1670000048e1bf42\n",
      "Received message with ID 0x2807ffe: ffff7ffa7fea0182\n",
      "pos:12.50 rad, vel:-0.01 rad/s\n",
      "Sent message with ID 0x1200fe7f, data: 0x1770000033332341\n",
      "Received message with ID 0x2807ffe: ffff7db37fff0182\n",
      "pos:12.50 rad, vel:-0.54 rad/s\n",
      "Sent message with ID 0x1200fe7f, data: 0x16700000b81ecc42\n",
      "Received message with ID 0x2807ffe: ffff7ffc7f4a0182\n",
      "pos:12.50 rad, vel:-0.00 rad/s\n",
      "Sent message with ID 0x1200fe7f, data: 0x1770000066661e41\n",
      "Received message with ID 0x2807ffe: ffff7e557fff0182\n",
      "pos:12.50 rad, vel:-0.39 rad/s\n",
      "Sent message with ID 0x1200fe7f, data: 0x1670000048e1e342\n",
      "Received message with ID 0x2807ffe: ffff7fd17fe30182\n",
      "pos:12.50 rad, vel:-0.04 rad/s\n",
      "Sent message with ID 0x1200fe7f, data: 0x1770000000005841\n",
      "Received message with ID 0x2807ffe: ffff7e957f1f0182\n",
      "pos:12.50 rad, vel:-0.33 rad/s\n",
      "Sent message with ID 0x1200fe7f, data: 0x167000007b14f442\n",
      "Received message with ID 0x2807ffe: ffff800a7fbe0182\n",
      "pos:12.50 rad, vel:0.01 rad/s\n",
      "Sent message with ID 0x1200fe7f, data: 0x1770000000005841\n",
      "Received message with ID 0x2807ffe: ffff7d8d7f5d0182\n",
      "pos:12.50 rad, vel:-0.57 rad/s\n",
      "Sent message with ID 0x1200fe7f, data: 0x16700000d7230243\n",
      "Received message with ID 0x2807ffe: ffff7fa67f400182\n",
      "pos:12.50 rad, vel:-0.08 rad/s\n",
      "Sent message with ID 0x1200fe7f, data: 0x1770000000004041\n",
      "Received message with ID 0x2807ffe: ffff7d227fff0182\n",
      "pos:12.50 rad, vel:-0.67 rad/s\n",
      "Sent message with ID 0x1200fe7f, data: 0x167000000a570943\n",
      "Received message with ID 0x2807ffe: ffff7fe77ef00182\n",
      "pos:12.50 rad, vel:-0.02 rad/s\n",
      "Sent message with ID 0x1200fe7f, data: 0x1770000000004041\n",
      "Received message with ID 0x2807ffe: ffff7d5a7fff0182\n",
      "pos:12.50 rad, vel:-0.62 rad/s\n",
      "Sent message with ID 0x1200fe7f, data: 0x167000003d8a1043\n",
      "Received message with ID 0x2807ffe: ffff7fb77f900182\n",
      "pos:12.50 rad, vel:-0.07 rad/s\n",
      "Sent message with ID 0x1200fe7f, data: 0x1770000033332f41\n",
      "Received message with ID 0x2807ffe: ffff7d3a7fb40182\n",
      "pos:12.50 rad, vel:-0.65 rad/s\n",
      "Sent message with ID 0x1200fe7f, data: 0x16700000291c1743\n",
      "Received message with ID 0x2807ffe: ffff80017fff0182\n",
      "pos:12.50 rad, vel:0.00 rad/s\n",
      "Sent message with ID 0x1200fe7f, data: 0x1770000033332f41\n",
      "Received message with ID 0x2807ffe: ffff7e237fce0182\n",
      "pos:12.50 rad, vel:-0.44 rad/s\n",
      "Sent message with ID 0x1200fe7f, data: 0x1670000014ae1d43\n",
      "Received message with ID 0x2807ffe: ffff80297fff0182\n",
      "pos:12.50 rad, vel:0.04 rad/s\n",
      "Sent message with ID 0x1200fe7f, data: 0x1770000033332341\n",
      "Received message with ID 0x2807ffe: ffff7dbb80a10182\n",
      "pos:12.50 rad, vel:-0.53 rad/s\n",
      "Sent message with ID 0x1200fe7f, data: 0x1670000085eb2943\n",
      "Received message with ID 0x2807ffe: ffff7fe57fff0182\n",
      "pos:12.50 rad, vel:-0.02 rad/s\n",
      "Sent message with ID 0x1200fe7f, data: 0x1770000000005841\n",
      "Received message with ID 0x2807ffe: ffff7e1c7fff0182\n",
      "pos:12.50 rad, vel:-0.44 rad/s\n",
      "Sent message with ID 0x1200fe7f, data: 0x167000001f053243\n",
      "Received message with ID 0x2807ffe: ffff7f9e7fff0182\n",
      "pos:12.50 rad, vel:-0.09 rad/s\n",
      "Sent message with ID 0x1200fe7f, data: 0x1770000000005841\n",
      "Received message with ID 0x2807ffe: ffff7d0d7fff0182\n",
      "pos:12.50 rad, vel:-0.69 rad/s\n",
      "Sent message with ID 0x1200fe7f, data: 0x16700000b81e3a43\n",
      "Received message with ID 0x2807ffe: ffff7fdb7fff0182\n",
      "pos:12.50 rad, vel:-0.03 rad/s\n",
      "Sent message with ID 0x1200fe7f, data: 0x1770000000004041\n",
      "Received message with ID 0x2807ffe: ffff7d197fff0182\n",
      "pos:12.50 rad, vel:-0.68 rad/s\n",
      "Sent message with ID 0x1200fe7f, data: 0x16700000ec514143\n",
      "Received message with ID 0x2807ffe: ffff80027fff0182\n",
      "pos:12.50 rad, vel:0.00 rad/s\n",
      "Sent message with ID 0x1200fe7f, data: 0x1770000000004041\n",
      "Received message with ID 0x2807ffe: ffff7dd77fff0182\n",
      "pos:12.50 rad, vel:-0.51 rad/s\n",
      "Sent message with ID 0x1200fe7f, data: 0x167000001f854843\n",
      "Received message with ID 0x2807ffe: ffff80277f830182\n",
      "pos:12.50 rad, vel:0.04 rad/s\n",
      "Sent message with ID 0x1200fe7f, data: 0x1770000033332f41\n",
      "Received message with ID 0x2807ffe: ffff7dff7fff0182\n",
      "pos:12.50 rad, vel:-0.47 rad/s\n",
      "Sent message with ID 0x1200fe7f, data: 0x167000000a174f43\n",
      "Received message with ID 0x2807ffe: ffff7f76804a0182\n",
      "pos:12.50 rad, vel:-0.13 rad/s\n",
      "Sent message with ID 0x1200fe7f, data: 0x1770000033332f41\n",
      "Received message with ID 0x2807ffe: ffff7d3d7fff0182\n",
      "pos:12.50 rad, vel:-0.65 rad/s\n",
      "Sent message with ID 0x1200fe7f, data: 0x16700000f6a85543\n",
      "Received message with ID 0x2807ffe: ffff7faf7e790182\n",
      "pos:12.50 rad, vel:-0.07 rad/s\n"
     ]
    },
    {
     "name": "stdout",
     "output_type": "stream",
     "text": [
      "Sent message with ID 0x1200fe7f, data: 0x1770000033332341\n",
      "Received message with ID 0x2807ffe: ffff7e187fff0182\n",
      "pos:12.50 rad, vel:-0.45 rad/s\n",
      "Sent message with ID 0x1200fe7f, data: 0x1670000066e66143\n",
      "Received message with ID 0x2807ffe: ffff7fe87fff0182\n",
      "pos:12.50 rad, vel:-0.02 rad/s\n",
      "Sent message with ID 0x1200fe7f, data: 0x1770000066661e41\n",
      "Received message with ID 0x2807ffe: ffff7e5b7fff0182\n",
      "pos:12.50 rad, vel:-0.38 rad/s\n",
      "Sent message with ID 0x1200fe7f, data: 0x167000000ad76743\n",
      "Received message with ID 0x2807ffe: ffff7fab7ea10182\n",
      "pos:12.50 rad, vel:-0.08 rad/s\n",
      "Sent message with ID 0x1200fe7f, data: 0x1770000066661e41\n",
      "Received message with ID 0x2807ffe: ffff7e1f7fce0182\n",
      "pos:12.50 rad, vel:-0.44 rad/s\n",
      "Sent message with ID 0x1200fe7f, data: 0x16700000aec76d43\n",
      "Received message with ID 0x2807ffe: ffff802b7fff0182\n",
      "pos:12.50 rad, vel:0.04 rad/s\n",
      "Sent message with ID 0x1200fe7f, data: 0x1770000000005841\n",
      "Received message with ID 0x2807ffe: ffff7e277fff0182\n",
      "pos:12.50 rad, vel:-0.43 rad/s\n",
      "Sent message with ID 0x1200fe7f, data: 0x1670000048e17543\n",
      "Received message with ID 0x2807ffe: ffff80017fff0182\n",
      "pos:12.50 rad, vel:0.00 rad/s\n",
      "Sent message with ID 0x1200fe7f, data: 0x1770000000005841\n",
      "Received message with ID 0x2807ffe: ffff7d2a7fff0182\n",
      "pos:12.50 rad, vel:-0.66 rad/s\n",
      "Sent message with ID 0x1200fe7f, data: 0x16700000e1fa7d43\n",
      "Received message with ID 0x2807ffe: ffff80097fff0182\n",
      "pos:12.50 rad, vel:0.01 rad/s\n",
      "Sent message with ID 0x1200fe7f, data: 0x1770000000007041\n",
      "Received message with ID 0x2807ffe: ffff7d567fff0182\n",
      "pos:12.50 rad, vel:-0.62 rad/s\n",
      "Sent message with ID 0x1200fe7f, data: 0x16700000717d8343\n",
      "Received message with ID 0x2807ffe: ffff803b7fff0182\n",
      "pos:12.50 rad, vel:0.05 rad/s\n",
      "Sent message with ID 0x1200fe7f, data: 0x1770000000007041\n",
      "Received message with ID 0x2807ffe: ffff7cb27fff0182\n",
      "pos:12.50 rad, vel:-0.77 rad/s\n",
      "Sent message with ID 0x1200fe7f, data: 0x1670000071fd8743\n",
      "Received message with ID 0x2807ffe: ffff7fb07fff0182\n",
      "pos:12.50 rad, vel:-0.07 rad/s\n",
      "Sent message with ID 0x1200fe7f, data: 0x1770000000005841\n",
      "Received message with ID 0x2807ffe: ffff7d0e7fff0182\n",
      "pos:12.50 rad, vel:-0.69 rad/s\n",
      "Sent message with ID 0x1200fe7f, data: 0x167000000a179043\n",
      "Received message with ID 0x2807ffe: ffff7fdc7fff0182\n",
      "pos:12.50 rad, vel:-0.03 rad/s\n",
      "Sent message with ID 0x1200fe7f, data: 0x1770000000004041\n",
      "Received message with ID 0x2807ffe: ffff7cf77fff0182\n",
      "pos:12.50 rad, vel:-0.71 rad/s\n",
      "Sent message with ID 0x1200fe7f, data: 0x16700000a4b09343\n",
      "Received message with ID 0x2807ffe: ffff7ffb7fff0182\n",
      "pos:12.50 rad, vel:-0.00 rad/s\n",
      "Sent message with ID 0x1200fe7f, data: 0x1770000000004041\n",
      "Received message with ID 0x2807ffe: ffff7d627fff0182\n",
      "pos:12.50 rad, vel:-0.61 rad/s\n",
      "Sent message with ID 0x1200fe7f, data: 0x167000003d4a9743\n",
      "Received message with ID 0x2807ffe: ffff80227fd90182\n",
      "pos:12.50 rad, vel:0.03 rad/s\n",
      "Sent message with ID 0x1200fe7f, data: 0x1770000033332f41\n",
      "Received message with ID 0x2807ffe: ffff7d917fff0182\n",
      "pos:12.50 rad, vel:-0.57 rad/s\n",
      "Sent message with ID 0x1200fe7f, data: 0x1670000033939a43\n",
      "Received message with ID 0x2807ffe: ffff80277fff0182\n",
      "pos:12.50 rad, vel:0.04 rad/s\n",
      "Sent message with ID 0x1200fe7f, data: 0x1770000033332f41\n",
      "Received message with ID 0x2807ffe: ffff7d817fff0182\n",
      "pos:12.50 rad, vel:-0.58 rad/s\n",
      "Sent message with ID 0x1200fe7f, data: 0x1670000029dc9d43\n",
      "Received message with ID 0x2807ffe: ffff80137fff0182\n",
      "pos:12.50 rad, vel:0.02 rad/s\n",
      "Sent message with ID 0x1200fe7f, data: 0x1770000033332341\n",
      "Received message with ID 0x2807ffe: ffff7e037fff0182\n",
      "pos:12.50 rad, vel:-0.47 rad/s\n",
      "Sent message with ID 0x1200fe7f, data: 0x1670000085eba043\n",
      "Received message with ID 0x2807ffe: ffff80327fff0182\n",
      "pos:12.50 rad, vel:0.05 rad/s\n",
      "Sent message with ID 0x1200fe7f, data: 0x1770000033332341\n",
      "Received message with ID 0x2807ffe: ffff7df57fff0182\n",
      "pos:12.50 rad, vel:-0.48 rad/s\n",
      "Sent message with ID 0x1200fe7f, data: 0x16700000e1faa343\n",
      "Received message with ID 0x2807ffe: ffff7fd47fff0182\n",
      "pos:12.50 rad, vel:-0.04 rad/s\n",
      "Sent message with ID 0x1200fe7f, data: 0x1770000066661e41\n",
      "Received message with ID 0x2807ffe: ffff7dde7fff0182\n",
      "pos:12.50 rad, vel:-0.50 rad/s\n",
      "Sent message with ID 0x1200fe7f, data: 0x1670000085eba943\n",
      "Received message with ID 0x2807ffe: ffff7fc57fff0182\n",
      "pos:12.50 rad, vel:-0.05 rad/s\n",
      "Sent message with ID 0x400fe7f, data: 0x0000000000000000\n",
      "Received message with ID 0x2007ffe: ffffa5367eba0182\n",
      "pos:12.50 rad, vel:8.72 rad/s\n"
     ]
    }
   ],
   "source": [
    "# 定义音符到电机参数的映射，为后面的音符分配更高的转速值\n",
    "note_to_speed = {\"C\": 6.6, \"D\": 6.8, \"E\": 7.3, \"F\": 8, \"G\": 9, \"A\": 10, \"B\": 13}\n",
    "\n",
    "# 定义小星星的音符和时长\n",
    "# 完整定义小星星的音符和时长\n",
    "notes = [\"C\", \"C\", \"G\", \"G\", \"A\", \"A\", \"G\",\n",
    "         \"F\", \"F\", \"E\", \"E\", \"D\", \"D\", \"C\",\n",
    "         \"G\", \"G\", \"F\", \"F\", \"E\", \"E\", \"D\",\n",
    "         \"G\", \"G\", \"F\", \"F\", \"E\", \"E\", \"D\",\n",
    "         \"C\", \"C\", \"G\", \"G\", \"A\", \"A\", \"G\",\n",
    "         \"F\", \"F\", \"E\", \"E\", \"D\", \"D\", \"C\"]\n",
    "\n",
    "durations = [1, 1, 1, 1, 1, 1, 2,\n",
    "             1, 1, 1, 1, 1, 1, 2,\n",
    "             1, 1, 1, 1, 1, 1, 2,\n",
    "             1, 1, 1, 1, 1, 1, 2,\n",
    "             1, 1, 1, 1, 1, 1, 2,\n",
    "             1, 1, 1, 1, 1, 1, 2]  # 以四分音符为单位\n",
    "\n",
    "x_speed = 1.5 # 速度倍数\n",
    "x_duration = 0.4 # 间隔倍数，如果小于1，就是减小时间间隔\n",
    "\n",
    "\n",
    "# 初始化电机的当前位置和方向标志\n",
    "current_loc_ref = 0\n",
    "direction_flag = 1  # 1表示正方向，-1表示反方向\n",
    "\n",
    "disable() #\n",
    "set_motor_position_control(limit_spd=10, loc_ref=0)\n",
    "set_0_pos()  # 当前0位\n",
    "enable()\n",
    "\n",
    "# 播放小星星\n",
    "for note, duration in zip(notes, durations):\n",
    "    duration = duration * x_duration\n",
    "    \n",
    "    # 计算电机的转速和目标位置\n",
    "    limit_spd = note_to_speed[note] * x_speed\n",
    "    loc_ref = current_loc_ref + (direction_flag * limit_spd * duration * 1.5)\n",
    "\n",
    "    # 使用电机参数设置函数\n",
    "    set_motor_position_control(limit_spd=limit_spd, loc_ref=loc_ref)\n",
    "\n",
    "    # 更新电机的当前位置\n",
    "    current_loc_ref = loc_ref\n",
    "\n",
    "    # 反转方向标志\n",
    "#     direction_flag *= -1\n",
    "\n",
    "    # 休眠一段时间以模拟音符的时长（这里假设一个四分音符的时长是1秒）\n",
    "    time.sleep(duration * x_speed)\n",
    "disable()"
   ]
  },
  {
   "cell_type": "code",
   "execution_count": null,
   "id": "c501cf63",
   "metadata": {},
   "outputs": [],
   "source": []
  }
 ],
 "metadata": {
  "kernelspec": {
   "display_name": "Python 3 (ipykernel)",
   "language": "python",
   "name": "python3"
  },
  "language_info": {
   "codemirror_mode": {
    "name": "ipython",
    "version": 3
   },
   "file_extension": ".py",
   "mimetype": "text/x-python",
   "name": "python",
   "nbconvert_exporter": "python",
   "pygments_lexer": "ipython3",
   "version": "3.9.7"
  }
 },
 "nbformat": 4,
 "nbformat_minor": 5
}
